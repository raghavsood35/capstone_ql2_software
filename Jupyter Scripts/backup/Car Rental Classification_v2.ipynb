{
 "cells": [
  {
   "cell_type": "code",
   "execution_count": 1,
   "metadata": {},
   "outputs": [],
   "source": [
    "# imports\n",
    "import pandas as pd\n",
    "import numpy as np\n",
    "import matplotlib.pyplot as plt"
   ]
  },
  {
   "cell_type": "code",
   "execution_count": 2,
   "metadata": {},
   "outputs": [],
   "source": [
    "classification_data = pd.read_csv(\"../Data/classification_data.csv\")\n",
    "airline_features = pd.read_csv(\"../Data/new_airfare_features.csv\")"
   ]
  },
  {
   "cell_type": "code",
   "execution_count": 3,
   "metadata": {},
   "outputs": [],
   "source": [
    "classification_data.drop(columns = \"Unnamed: 0\", inplace = True)"
   ]
  },
  {
   "cell_type": "code",
   "execution_count": 4,
   "metadata": {},
   "outputs": [
    {
     "data": {
      "text/html": [
       "<div>\n",
       "<style scoped>\n",
       "    .dataframe tbody tr th:only-of-type {\n",
       "        vertical-align: middle;\n",
       "    }\n",
       "\n",
       "    .dataframe tbody tr th {\n",
       "        vertical-align: top;\n",
       "    }\n",
       "\n",
       "    .dataframe thead th {\n",
       "        text-align: right;\n",
       "    }\n",
       "</style>\n",
       "<table border=\"1\" class=\"dataframe\">\n",
       "  <thead>\n",
       "    <tr style=\"text-align: right;\">\n",
       "      <th></th>\n",
       "      <th>AVG_BEFORE_DAYS</th>\n",
       "      <th>HOLIDAY</th>\n",
       "      <th>HOLIDAY AFTER</th>\n",
       "      <th>HOLIDAY BEFORE</th>\n",
       "      <th>WEEKEND</th>\n",
       "      <th>CHANGE</th>\n",
       "      <th>PICKUP_DATE_YEAR</th>\n",
       "      <th>PICKUP_DATE_MONTH</th>\n",
       "      <th>PICKUP_DATE_DATE</th>\n",
       "      <th>OUTSIPP_economy</th>\n",
       "      <th>OUTSIPP_luxury</th>\n",
       "      <th>OUTSIPP_midrange</th>\n",
       "      <th>OUTSIPP_premium</th>\n",
       "    </tr>\n",
       "  </thead>\n",
       "  <tbody>\n",
       "    <tr>\n",
       "      <td>0</td>\n",
       "      <td>-1.220856</td>\n",
       "      <td>0</td>\n",
       "      <td>0</td>\n",
       "      <td>0</td>\n",
       "      <td>0</td>\n",
       "      <td>Decrease</td>\n",
       "      <td>2018</td>\n",
       "      <td>1</td>\n",
       "      <td>31</td>\n",
       "      <td>0</td>\n",
       "      <td>0</td>\n",
       "      <td>0</td>\n",
       "      <td>0</td>\n",
       "    </tr>\n",
       "    <tr>\n",
       "      <td>1</td>\n",
       "      <td>-1.472890</td>\n",
       "      <td>0</td>\n",
       "      <td>0</td>\n",
       "      <td>0</td>\n",
       "      <td>0</td>\n",
       "      <td>Decrease</td>\n",
       "      <td>2018</td>\n",
       "      <td>1</td>\n",
       "      <td>31</td>\n",
       "      <td>0</td>\n",
       "      <td>0</td>\n",
       "      <td>0</td>\n",
       "      <td>0</td>\n",
       "    </tr>\n",
       "    <tr>\n",
       "      <td>2</td>\n",
       "      <td>-1.481469</td>\n",
       "      <td>0</td>\n",
       "      <td>0</td>\n",
       "      <td>0</td>\n",
       "      <td>0</td>\n",
       "      <td>Decrease</td>\n",
       "      <td>2018</td>\n",
       "      <td>1</td>\n",
       "      <td>31</td>\n",
       "      <td>0</td>\n",
       "      <td>0</td>\n",
       "      <td>0</td>\n",
       "      <td>0</td>\n",
       "    </tr>\n",
       "    <tr>\n",
       "      <td>3</td>\n",
       "      <td>0.012021</td>\n",
       "      <td>0</td>\n",
       "      <td>0</td>\n",
       "      <td>0</td>\n",
       "      <td>0</td>\n",
       "      <td>Decrease</td>\n",
       "      <td>2018</td>\n",
       "      <td>1</td>\n",
       "      <td>31</td>\n",
       "      <td>0</td>\n",
       "      <td>0</td>\n",
       "      <td>1</td>\n",
       "      <td>0</td>\n",
       "    </tr>\n",
       "    <tr>\n",
       "      <td>4</td>\n",
       "      <td>-1.357856</td>\n",
       "      <td>0</td>\n",
       "      <td>0</td>\n",
       "      <td>0</td>\n",
       "      <td>0</td>\n",
       "      <td>No change</td>\n",
       "      <td>2018</td>\n",
       "      <td>1</td>\n",
       "      <td>31</td>\n",
       "      <td>0</td>\n",
       "      <td>0</td>\n",
       "      <td>0</td>\n",
       "      <td>0</td>\n",
       "    </tr>\n",
       "  </tbody>\n",
       "</table>\n",
       "</div>"
      ],
      "text/plain": [
       "   AVG_BEFORE_DAYS  HOLIDAY  HOLIDAY AFTER  HOLIDAY BEFORE  WEEKEND  \\\n",
       "0        -1.220856        0              0               0        0   \n",
       "1        -1.472890        0              0               0        0   \n",
       "2        -1.481469        0              0               0        0   \n",
       "3         0.012021        0              0               0        0   \n",
       "4        -1.357856        0              0               0        0   \n",
       "\n",
       "      CHANGE  PICKUP_DATE_YEAR  PICKUP_DATE_MONTH  PICKUP_DATE_DATE  \\\n",
       "0   Decrease              2018                  1                31   \n",
       "1   Decrease              2018                  1                31   \n",
       "2   Decrease              2018                  1                31   \n",
       "3   Decrease              2018                  1                31   \n",
       "4  No change              2018                  1                31   \n",
       "\n",
       "   OUTSIPP_economy  OUTSIPP_luxury  OUTSIPP_midrange  OUTSIPP_premium  \n",
       "0                0               0                 0                0  \n",
       "1                0               0                 0                0  \n",
       "2                0               0                 0                0  \n",
       "3                0               0                 1                0  \n",
       "4                0               0                 0                0  "
      ]
     },
     "execution_count": 4,
     "metadata": {},
     "output_type": "execute_result"
    }
   ],
   "source": [
    "classification_data.head()"
   ]
  },
  {
   "cell_type": "code",
   "execution_count": 5,
   "metadata": {},
   "outputs": [
    {
     "data": {
      "text/html": [
       "<div>\n",
       "<style scoped>\n",
       "    .dataframe tbody tr th:only-of-type {\n",
       "        vertical-align: middle;\n",
       "    }\n",
       "\n",
       "    .dataframe tbody tr th {\n",
       "        vertical-align: top;\n",
       "    }\n",
       "\n",
       "    .dataframe thead th {\n",
       "        text-align: right;\n",
       "    }\n",
       "</style>\n",
       "<table border=\"1\" class=\"dataframe\">\n",
       "  <thead>\n",
       "    <tr style=\"text-align: right;\">\n",
       "      <th></th>\n",
       "      <th>DDATE</th>\n",
       "      <th>price_per_mile</th>\n",
       "      <th>total_fluc_50</th>\n",
       "      <th>total_fluc_70</th>\n",
       "      <th>total_fluc_120</th>\n",
       "      <th>avg_price</th>\n",
       "      <th>pct_change</th>\n",
       "      <th>trend</th>\n",
       "    </tr>\n",
       "  </thead>\n",
       "  <tbody>\n",
       "    <tr>\n",
       "      <td>0</td>\n",
       "      <td>2018-02-01</td>\n",
       "      <td>0.104127</td>\n",
       "      <td>0.000000</td>\n",
       "      <td>0.000000</td>\n",
       "      <td>0.000000</td>\n",
       "      <td>0.104127</td>\n",
       "      <td>0.000000</td>\n",
       "      <td>Decrease</td>\n",
       "    </tr>\n",
       "    <tr>\n",
       "      <td>1</td>\n",
       "      <td>2018-02-02</td>\n",
       "      <td>0.077575</td>\n",
       "      <td>0.000000</td>\n",
       "      <td>0.000000</td>\n",
       "      <td>0.000000</td>\n",
       "      <td>0.090851</td>\n",
       "      <td>0.146131</td>\n",
       "      <td>Decrease</td>\n",
       "    </tr>\n",
       "    <tr>\n",
       "      <td>2</td>\n",
       "      <td>2018-02-03</td>\n",
       "      <td>0.174479</td>\n",
       "      <td>0.000000</td>\n",
       "      <td>0.000000</td>\n",
       "      <td>0.000000</td>\n",
       "      <td>0.118727</td>\n",
       "      <td>-0.469582</td>\n",
       "      <td>Decrease</td>\n",
       "    </tr>\n",
       "    <tr>\n",
       "      <td>3</td>\n",
       "      <td>2018-02-04</td>\n",
       "      <td>0.229135</td>\n",
       "      <td>-0.014099</td>\n",
       "      <td>-0.014099</td>\n",
       "      <td>-0.014099</td>\n",
       "      <td>0.146329</td>\n",
       "      <td>-0.565890</td>\n",
       "      <td>Decrease</td>\n",
       "    </tr>\n",
       "    <tr>\n",
       "      <td>4</td>\n",
       "      <td>2018-02-05</td>\n",
       "      <td>0.187648</td>\n",
       "      <td>0.345462</td>\n",
       "      <td>0.345462</td>\n",
       "      <td>0.345462</td>\n",
       "      <td>0.154593</td>\n",
       "      <td>-0.213824</td>\n",
       "      <td>Decrease</td>\n",
       "    </tr>\n",
       "  </tbody>\n",
       "</table>\n",
       "</div>"
      ],
      "text/plain": [
       "        DDATE  price_per_mile  total_fluc_50  total_fluc_70  total_fluc_120  \\\n",
       "0  2018-02-01        0.104127       0.000000       0.000000        0.000000   \n",
       "1  2018-02-02        0.077575       0.000000       0.000000        0.000000   \n",
       "2  2018-02-03        0.174479       0.000000       0.000000        0.000000   \n",
       "3  2018-02-04        0.229135      -0.014099      -0.014099       -0.014099   \n",
       "4  2018-02-05        0.187648       0.345462       0.345462        0.345462   \n",
       "\n",
       "   avg_price  pct_change     trend  \n",
       "0   0.104127    0.000000  Decrease  \n",
       "1   0.090851    0.146131  Decrease  \n",
       "2   0.118727   -0.469582  Decrease  \n",
       "3   0.146329   -0.565890  Decrease  \n",
       "4   0.154593   -0.213824  Decrease  "
      ]
     },
     "execution_count": 5,
     "metadata": {},
     "output_type": "execute_result"
    }
   ],
   "source": [
    "airline_features.head()"
   ]
  },
  {
   "cell_type": "code",
   "execution_count": 6,
   "metadata": {},
   "outputs": [],
   "source": [
    "airline_features[\"DDATE\"] = pd.to_datetime(airline_features[\"DDATE\"], format='%Y-%m-%d')"
   ]
  },
  {
   "cell_type": "code",
   "execution_count": 7,
   "metadata": {},
   "outputs": [
    {
     "name": "stdout",
     "output_type": "stream",
     "text": [
      "<class 'pandas.core.frame.DataFrame'>\n",
      "RangeIndex: 920 entries, 0 to 919\n",
      "Data columns (total 8 columns):\n",
      "DDATE             920 non-null datetime64[ns]\n",
      "price_per_mile    920 non-null float64\n",
      "total_fluc_50     920 non-null float64\n",
      "total_fluc_70     920 non-null float64\n",
      "total_fluc_120    920 non-null float64\n",
      "avg_price         920 non-null float64\n",
      "pct_change        920 non-null float64\n",
      "trend             920 non-null object\n",
      "dtypes: datetime64[ns](1), float64(6), object(1)\n",
      "memory usage: 57.6+ KB\n"
     ]
    }
   ],
   "source": [
    "airline_features.info()"
   ]
  },
  {
   "cell_type": "code",
   "execution_count": 8,
   "metadata": {},
   "outputs": [],
   "source": [
    "airline_features[\"DDATE_YEAR\"] = pd.DatetimeIndex(airline_features[\"DDATE\"]).year\n",
    "airline_features[\"DDATE_MONTH\"] = pd.DatetimeIndex(airline_features[\"DDATE\"]).month\n",
    "airline_features[\"DDATE_DATE\"] = pd.DatetimeIndex(airline_features[\"DDATE\"]).day\n",
    "airline_features.drop(columns = \"DDATE\", inplace = True)"
   ]
  },
  {
   "cell_type": "code",
   "execution_count": 9,
   "metadata": {},
   "outputs": [
    {
     "data": {
      "text/html": [
       "<div>\n",
       "<style scoped>\n",
       "    .dataframe tbody tr th:only-of-type {\n",
       "        vertical-align: middle;\n",
       "    }\n",
       "\n",
       "    .dataframe tbody tr th {\n",
       "        vertical-align: top;\n",
       "    }\n",
       "\n",
       "    .dataframe thead th {\n",
       "        text-align: right;\n",
       "    }\n",
       "</style>\n",
       "<table border=\"1\" class=\"dataframe\">\n",
       "  <thead>\n",
       "    <tr style=\"text-align: right;\">\n",
       "      <th></th>\n",
       "      <th>price_per_mile</th>\n",
       "      <th>total_fluc_50</th>\n",
       "      <th>total_fluc_70</th>\n",
       "      <th>total_fluc_120</th>\n",
       "      <th>avg_price</th>\n",
       "      <th>pct_change</th>\n",
       "      <th>trend</th>\n",
       "      <th>DDATE_YEAR</th>\n",
       "      <th>DDATE_MONTH</th>\n",
       "      <th>DDATE_DATE</th>\n",
       "    </tr>\n",
       "  </thead>\n",
       "  <tbody>\n",
       "    <tr>\n",
       "      <td>0</td>\n",
       "      <td>0.104127</td>\n",
       "      <td>0.000000</td>\n",
       "      <td>0.000000</td>\n",
       "      <td>0.000000</td>\n",
       "      <td>0.104127</td>\n",
       "      <td>0.000000</td>\n",
       "      <td>Decrease</td>\n",
       "      <td>2018</td>\n",
       "      <td>2</td>\n",
       "      <td>1</td>\n",
       "    </tr>\n",
       "    <tr>\n",
       "      <td>1</td>\n",
       "      <td>0.077575</td>\n",
       "      <td>0.000000</td>\n",
       "      <td>0.000000</td>\n",
       "      <td>0.000000</td>\n",
       "      <td>0.090851</td>\n",
       "      <td>0.146131</td>\n",
       "      <td>Decrease</td>\n",
       "      <td>2018</td>\n",
       "      <td>2</td>\n",
       "      <td>2</td>\n",
       "    </tr>\n",
       "    <tr>\n",
       "      <td>2</td>\n",
       "      <td>0.174479</td>\n",
       "      <td>0.000000</td>\n",
       "      <td>0.000000</td>\n",
       "      <td>0.000000</td>\n",
       "      <td>0.118727</td>\n",
       "      <td>-0.469582</td>\n",
       "      <td>Decrease</td>\n",
       "      <td>2018</td>\n",
       "      <td>2</td>\n",
       "      <td>3</td>\n",
       "    </tr>\n",
       "    <tr>\n",
       "      <td>3</td>\n",
       "      <td>0.229135</td>\n",
       "      <td>-0.014099</td>\n",
       "      <td>-0.014099</td>\n",
       "      <td>-0.014099</td>\n",
       "      <td>0.146329</td>\n",
       "      <td>-0.565890</td>\n",
       "      <td>Decrease</td>\n",
       "      <td>2018</td>\n",
       "      <td>2</td>\n",
       "      <td>4</td>\n",
       "    </tr>\n",
       "    <tr>\n",
       "      <td>4</td>\n",
       "      <td>0.187648</td>\n",
       "      <td>0.345462</td>\n",
       "      <td>0.345462</td>\n",
       "      <td>0.345462</td>\n",
       "      <td>0.154593</td>\n",
       "      <td>-0.213824</td>\n",
       "      <td>Decrease</td>\n",
       "      <td>2018</td>\n",
       "      <td>2</td>\n",
       "      <td>5</td>\n",
       "    </tr>\n",
       "  </tbody>\n",
       "</table>\n",
       "</div>"
      ],
      "text/plain": [
       "   price_per_mile  total_fluc_50  total_fluc_70  total_fluc_120  avg_price  \\\n",
       "0        0.104127       0.000000       0.000000        0.000000   0.104127   \n",
       "1        0.077575       0.000000       0.000000        0.000000   0.090851   \n",
       "2        0.174479       0.000000       0.000000        0.000000   0.118727   \n",
       "3        0.229135      -0.014099      -0.014099       -0.014099   0.146329   \n",
       "4        0.187648       0.345462       0.345462        0.345462   0.154593   \n",
       "\n",
       "   pct_change     trend  DDATE_YEAR  DDATE_MONTH  DDATE_DATE  \n",
       "0    0.000000  Decrease        2018            2           1  \n",
       "1    0.146131  Decrease        2018            2           2  \n",
       "2   -0.469582  Decrease        2018            2           3  \n",
       "3   -0.565890  Decrease        2018            2           4  \n",
       "4   -0.213824  Decrease        2018            2           5  "
      ]
     },
     "execution_count": 9,
     "metadata": {},
     "output_type": "execute_result"
    }
   ],
   "source": [
    "airline_features.head()"
   ]
  },
  {
   "cell_type": "markdown",
   "metadata": {},
   "source": [
    "# Merging the datasets"
   ]
  },
  {
   "cell_type": "code",
   "execution_count": 10,
   "metadata": {},
   "outputs": [
    {
     "name": "stdout",
     "output_type": "stream",
     "text": [
      "Index(['AVG_BEFORE_DAYS', 'HOLIDAY', 'HOLIDAY AFTER', 'HOLIDAY BEFORE',\n",
      "       'WEEKEND', 'CHANGE', 'PICKUP_DATE_YEAR', 'PICKUP_DATE_MONTH',\n",
      "       'PICKUP_DATE_DATE', 'OUTSIPP_economy', 'OUTSIPP_luxury',\n",
      "       'OUTSIPP_midrange', 'OUTSIPP_premium'],\n",
      "      dtype='object')\n",
      "\n",
      "Index(['price_per_mile', 'total_fluc_50', 'total_fluc_70', 'total_fluc_120',\n",
      "       'avg_price', 'pct_change', 'trend', 'DDATE_YEAR', 'DDATE_MONTH',\n",
      "       'DDATE_DATE'],\n",
      "      dtype='object')\n"
     ]
    }
   ],
   "source": [
    "print(classification_data.columns)\n",
    "print()\n",
    "print(airline_features.columns)"
   ]
  },
  {
   "cell_type": "code",
   "execution_count": 11,
   "metadata": {},
   "outputs": [],
   "source": [
    "all_classification_data = pd.merge(classification_data, airline_features, how='left',\n",
    "                                   left_on=['PICKUP_DATE_YEAR','PICKUP_DATE_MONTH', 'PICKUP_DATE_DATE'], \n",
    "                                   right_on = ['DDATE_YEAR','DDATE_MONTH', 'DDATE_DATE'])"
   ]
  },
  {
   "cell_type": "code",
   "execution_count": 12,
   "metadata": {},
   "outputs": [
    {
     "data": {
      "text/html": [
       "<div>\n",
       "<style scoped>\n",
       "    .dataframe tbody tr th:only-of-type {\n",
       "        vertical-align: middle;\n",
       "    }\n",
       "\n",
       "    .dataframe tbody tr th {\n",
       "        vertical-align: top;\n",
       "    }\n",
       "\n",
       "    .dataframe thead th {\n",
       "        text-align: right;\n",
       "    }\n",
       "</style>\n",
       "<table border=\"1\" class=\"dataframe\">\n",
       "  <thead>\n",
       "    <tr style=\"text-align: right;\">\n",
       "      <th></th>\n",
       "      <th>AVG_BEFORE_DAYS</th>\n",
       "      <th>HOLIDAY</th>\n",
       "      <th>HOLIDAY AFTER</th>\n",
       "      <th>HOLIDAY BEFORE</th>\n",
       "      <th>WEEKEND</th>\n",
       "      <th>CHANGE</th>\n",
       "      <th>PICKUP_DATE_YEAR</th>\n",
       "      <th>PICKUP_DATE_MONTH</th>\n",
       "      <th>PICKUP_DATE_DATE</th>\n",
       "      <th>OUTSIPP_economy</th>\n",
       "      <th>OUTSIPP_luxury</th>\n",
       "      <th>OUTSIPP_midrange</th>\n",
       "      <th>OUTSIPP_premium</th>\n",
       "      <th>price_per_mile</th>\n",
       "      <th>total_fluc_50</th>\n",
       "      <th>total_fluc_70</th>\n",
       "      <th>total_fluc_120</th>\n",
       "      <th>avg_price</th>\n",
       "      <th>pct_change</th>\n",
       "      <th>trend</th>\n",
       "      <th>DDATE_YEAR</th>\n",
       "      <th>DDATE_MONTH</th>\n",
       "      <th>DDATE_DATE</th>\n",
       "    </tr>\n",
       "  </thead>\n",
       "  <tbody>\n",
       "    <tr>\n",
       "      <td>26501</td>\n",
       "      <td>1.428936</td>\n",
       "      <td>0</td>\n",
       "      <td>0</td>\n",
       "      <td>0</td>\n",
       "      <td>0</td>\n",
       "      <td>Increase</td>\n",
       "      <td>2020</td>\n",
       "      <td>1</td>\n",
       "      <td>29</td>\n",
       "      <td>0</td>\n",
       "      <td>1</td>\n",
       "      <td>0</td>\n",
       "      <td>0</td>\n",
       "      <td>0.44997</td>\n",
       "      <td>0.0</td>\n",
       "      <td>0.0</td>\n",
       "      <td>0.046915</td>\n",
       "      <td>0.438107</td>\n",
       "      <td>-0.027079</td>\n",
       "      <td>Decrease</td>\n",
       "      <td>2020.0</td>\n",
       "      <td>1.0</td>\n",
       "      <td>29.0</td>\n",
       "    </tr>\n",
       "    <tr>\n",
       "      <td>26502</td>\n",
       "      <td>-0.507711</td>\n",
       "      <td>0</td>\n",
       "      <td>0</td>\n",
       "      <td>0</td>\n",
       "      <td>0</td>\n",
       "      <td>Decrease</td>\n",
       "      <td>2020</td>\n",
       "      <td>1</td>\n",
       "      <td>29</td>\n",
       "      <td>1</td>\n",
       "      <td>0</td>\n",
       "      <td>0</td>\n",
       "      <td>0</td>\n",
       "      <td>0.44997</td>\n",
       "      <td>0.0</td>\n",
       "      <td>0.0</td>\n",
       "      <td>0.046915</td>\n",
       "      <td>0.438107</td>\n",
       "      <td>-0.027079</td>\n",
       "      <td>Decrease</td>\n",
       "      <td>2020.0</td>\n",
       "      <td>1.0</td>\n",
       "      <td>29.0</td>\n",
       "    </tr>\n",
       "    <tr>\n",
       "      <td>26503</td>\n",
       "      <td>-1.160674</td>\n",
       "      <td>0</td>\n",
       "      <td>0</td>\n",
       "      <td>0</td>\n",
       "      <td>0</td>\n",
       "      <td>Decrease</td>\n",
       "      <td>2020</td>\n",
       "      <td>1</td>\n",
       "      <td>29</td>\n",
       "      <td>1</td>\n",
       "      <td>0</td>\n",
       "      <td>0</td>\n",
       "      <td>0</td>\n",
       "      <td>0.44997</td>\n",
       "      <td>0.0</td>\n",
       "      <td>0.0</td>\n",
       "      <td>0.046915</td>\n",
       "      <td>0.438107</td>\n",
       "      <td>-0.027079</td>\n",
       "      <td>Decrease</td>\n",
       "      <td>2020.0</td>\n",
       "      <td>1.0</td>\n",
       "      <td>29.0</td>\n",
       "    </tr>\n",
       "    <tr>\n",
       "      <td>26504</td>\n",
       "      <td>-0.756967</td>\n",
       "      <td>0</td>\n",
       "      <td>0</td>\n",
       "      <td>0</td>\n",
       "      <td>0</td>\n",
       "      <td>No change</td>\n",
       "      <td>2020</td>\n",
       "      <td>1</td>\n",
       "      <td>29</td>\n",
       "      <td>1</td>\n",
       "      <td>0</td>\n",
       "      <td>0</td>\n",
       "      <td>0</td>\n",
       "      <td>0.44997</td>\n",
       "      <td>0.0</td>\n",
       "      <td>0.0</td>\n",
       "      <td>0.046915</td>\n",
       "      <td>0.438107</td>\n",
       "      <td>-0.027079</td>\n",
       "      <td>Decrease</td>\n",
       "      <td>2020.0</td>\n",
       "      <td>1.0</td>\n",
       "      <td>29.0</td>\n",
       "    </tr>\n",
       "    <tr>\n",
       "      <td>26505</td>\n",
       "      <td>-0.001643</td>\n",
       "      <td>0</td>\n",
       "      <td>0</td>\n",
       "      <td>0</td>\n",
       "      <td>0</td>\n",
       "      <td>Decrease</td>\n",
       "      <td>2020</td>\n",
       "      <td>1</td>\n",
       "      <td>29</td>\n",
       "      <td>0</td>\n",
       "      <td>0</td>\n",
       "      <td>1</td>\n",
       "      <td>0</td>\n",
       "      <td>0.44997</td>\n",
       "      <td>0.0</td>\n",
       "      <td>0.0</td>\n",
       "      <td>0.046915</td>\n",
       "      <td>0.438107</td>\n",
       "      <td>-0.027079</td>\n",
       "      <td>Decrease</td>\n",
       "      <td>2020.0</td>\n",
       "      <td>1.0</td>\n",
       "      <td>29.0</td>\n",
       "    </tr>\n",
       "  </tbody>\n",
       "</table>\n",
       "</div>"
      ],
      "text/plain": [
       "       AVG_BEFORE_DAYS  HOLIDAY  HOLIDAY AFTER  HOLIDAY BEFORE  WEEKEND  \\\n",
       "26501         1.428936        0              0               0        0   \n",
       "26502        -0.507711        0              0               0        0   \n",
       "26503        -1.160674        0              0               0        0   \n",
       "26504        -0.756967        0              0               0        0   \n",
       "26505        -0.001643        0              0               0        0   \n",
       "\n",
       "          CHANGE  PICKUP_DATE_YEAR  PICKUP_DATE_MONTH  PICKUP_DATE_DATE  \\\n",
       "26501   Increase              2020                  1                29   \n",
       "26502   Decrease              2020                  1                29   \n",
       "26503   Decrease              2020                  1                29   \n",
       "26504  No change              2020                  1                29   \n",
       "26505   Decrease              2020                  1                29   \n",
       "\n",
       "       OUTSIPP_economy  OUTSIPP_luxury  OUTSIPP_midrange  OUTSIPP_premium  \\\n",
       "26501                0               1                 0                0   \n",
       "26502                1               0                 0                0   \n",
       "26503                1               0                 0                0   \n",
       "26504                1               0                 0                0   \n",
       "26505                0               0                 1                0   \n",
       "\n",
       "       price_per_mile  total_fluc_50  total_fluc_70  total_fluc_120  \\\n",
       "26501         0.44997            0.0            0.0        0.046915   \n",
       "26502         0.44997            0.0            0.0        0.046915   \n",
       "26503         0.44997            0.0            0.0        0.046915   \n",
       "26504         0.44997            0.0            0.0        0.046915   \n",
       "26505         0.44997            0.0            0.0        0.046915   \n",
       "\n",
       "       avg_price  pct_change     trend  DDATE_YEAR  DDATE_MONTH  DDATE_DATE  \n",
       "26501   0.438107   -0.027079  Decrease      2020.0          1.0        29.0  \n",
       "26502   0.438107   -0.027079  Decrease      2020.0          1.0        29.0  \n",
       "26503   0.438107   -0.027079  Decrease      2020.0          1.0        29.0  \n",
       "26504   0.438107   -0.027079  Decrease      2020.0          1.0        29.0  \n",
       "26505   0.438107   -0.027079  Decrease      2020.0          1.0        29.0  "
      ]
     },
     "execution_count": 12,
     "metadata": {},
     "output_type": "execute_result"
    }
   ],
   "source": [
    "pd.set_option('display.max_columns', None)\n",
    "all_classification_data.tail(5)"
   ]
  },
  {
   "cell_type": "code",
   "execution_count": 13,
   "metadata": {},
   "outputs": [
    {
     "name": "stdout",
     "output_type": "stream",
     "text": [
      "<class 'pandas.core.frame.DataFrame'>\n",
      "Int64Index: 26506 entries, 0 to 26505\n",
      "Data columns (total 23 columns):\n",
      "AVG_BEFORE_DAYS      26506 non-null float64\n",
      "HOLIDAY              26506 non-null int64\n",
      "HOLIDAY AFTER        26506 non-null int64\n",
      "HOLIDAY BEFORE       26506 non-null int64\n",
      "WEEKEND              26506 non-null int64\n",
      "CHANGE               26506 non-null object\n",
      "PICKUP_DATE_YEAR     26506 non-null int64\n",
      "PICKUP_DATE_MONTH    26506 non-null int64\n",
      "PICKUP_DATE_DATE     26506 non-null int64\n",
      "OUTSIPP_economy      26506 non-null int64\n",
      "OUTSIPP_luxury       26506 non-null int64\n",
      "OUTSIPP_midrange     26506 non-null int64\n",
      "OUTSIPP_premium      26506 non-null int64\n",
      "price_per_mile       26469 non-null float64\n",
      "total_fluc_50        26469 non-null float64\n",
      "total_fluc_70        26469 non-null float64\n",
      "total_fluc_120       26469 non-null float64\n",
      "avg_price            26469 non-null float64\n",
      "pct_change           26469 non-null float64\n",
      "trend                26469 non-null object\n",
      "DDATE_YEAR           26469 non-null float64\n",
      "DDATE_MONTH          26469 non-null float64\n",
      "DDATE_DATE           26469 non-null float64\n",
      "dtypes: float64(10), int64(11), object(2)\n",
      "memory usage: 4.9+ MB\n"
     ]
    }
   ],
   "source": [
    "all_classification_data.info()"
   ]
  },
  {
   "cell_type": "code",
   "execution_count": 14,
   "metadata": {},
   "outputs": [
    {
     "data": {
      "text/plain": [
       "AVG_BEFORE_DAYS       0\n",
       "HOLIDAY               0\n",
       "HOLIDAY AFTER         0\n",
       "HOLIDAY BEFORE        0\n",
       "WEEKEND               0\n",
       "CHANGE                0\n",
       "PICKUP_DATE_YEAR      0\n",
       "PICKUP_DATE_MONTH     0\n",
       "PICKUP_DATE_DATE      0\n",
       "OUTSIPP_economy       0\n",
       "OUTSIPP_luxury        0\n",
       "OUTSIPP_midrange      0\n",
       "OUTSIPP_premium       0\n",
       "price_per_mile       37\n",
       "total_fluc_50        37\n",
       "total_fluc_70        37\n",
       "total_fluc_120       37\n",
       "avg_price            37\n",
       "pct_change           37\n",
       "trend                37\n",
       "DDATE_YEAR           37\n",
       "DDATE_MONTH          37\n",
       "DDATE_DATE           37\n",
       "dtype: int64"
      ]
     },
     "execution_count": 14,
     "metadata": {},
     "output_type": "execute_result"
    }
   ],
   "source": [
    "# Checking null columns\n",
    "pd.set_option('display.max_rows', None)\n",
    "all_classification_data.isnull().sum()"
   ]
  },
  {
   "cell_type": "code",
   "execution_count": 15,
   "metadata": {},
   "outputs": [],
   "source": [
    "# Dropping null columns\n",
    "all_classification_data.dropna(inplace=True)"
   ]
  },
  {
   "cell_type": "markdown",
   "metadata": {},
   "source": [
    "# Machine Learning"
   ]
  },
  {
   "cell_type": "code",
   "execution_count": 16,
   "metadata": {},
   "outputs": [],
   "source": [
    "# Dropping not required columns\n",
    "drop_columns = [\"DDATE_YEAR\", \"DDATE_MONTH\", \"DDATE_DATE\", \"trend\", \"price_per_mile\", \"avg_price\"]\n",
    "ml_data = all_classification_data.copy()\n",
    "ml_data.drop(columns = drop_columns, inplace = True)"
   ]
  },
  {
   "cell_type": "code",
   "execution_count": 17,
   "metadata": {},
   "outputs": [
    {
     "data": {
      "text/html": [
       "<div>\n",
       "<style scoped>\n",
       "    .dataframe tbody tr th:only-of-type {\n",
       "        vertical-align: middle;\n",
       "    }\n",
       "\n",
       "    .dataframe tbody tr th {\n",
       "        vertical-align: top;\n",
       "    }\n",
       "\n",
       "    .dataframe thead th {\n",
       "        text-align: right;\n",
       "    }\n",
       "</style>\n",
       "<table border=\"1\" class=\"dataframe\">\n",
       "  <thead>\n",
       "    <tr style=\"text-align: right;\">\n",
       "      <th></th>\n",
       "      <th>AVG_BEFORE_DAYS</th>\n",
       "      <th>HOLIDAY</th>\n",
       "      <th>HOLIDAY AFTER</th>\n",
       "      <th>HOLIDAY BEFORE</th>\n",
       "      <th>WEEKEND</th>\n",
       "      <th>PICKUP_DATE_YEAR</th>\n",
       "      <th>PICKUP_DATE_MONTH</th>\n",
       "      <th>PICKUP_DATE_DATE</th>\n",
       "      <th>OUTSIPP_economy</th>\n",
       "      <th>OUTSIPP_luxury</th>\n",
       "      <th>OUTSIPP_midrange</th>\n",
       "      <th>OUTSIPP_premium</th>\n",
       "      <th>total_fluc_50</th>\n",
       "      <th>total_fluc_70</th>\n",
       "      <th>total_fluc_120</th>\n",
       "      <th>pct_change</th>\n",
       "    </tr>\n",
       "  </thead>\n",
       "  <tbody>\n",
       "    <tr>\n",
       "      <td>count</td>\n",
       "      <td>26469.000000</td>\n",
       "      <td>26469.000000</td>\n",
       "      <td>26469.000000</td>\n",
       "      <td>26469.000000</td>\n",
       "      <td>26469.000000</td>\n",
       "      <td>26469.000000</td>\n",
       "      <td>26469.000000</td>\n",
       "      <td>26469.000000</td>\n",
       "      <td>26469.000000</td>\n",
       "      <td>26469.000000</td>\n",
       "      <td>26469.000000</td>\n",
       "      <td>26469.000000</td>\n",
       "      <td>26469.000000</td>\n",
       "      <td>26469.000000</td>\n",
       "      <td>26469.000000</td>\n",
       "      <td>26469.000000</td>\n",
       "    </tr>\n",
       "    <tr>\n",
       "      <td>mean</td>\n",
       "      <td>0.000370</td>\n",
       "      <td>0.034455</td>\n",
       "      <td>0.034493</td>\n",
       "      <td>0.034682</td>\n",
       "      <td>0.288942</td>\n",
       "      <td>2018.618762</td>\n",
       "      <td>6.709585</td>\n",
       "      <td>15.629529</td>\n",
       "      <td>0.265367</td>\n",
       "      <td>0.229363</td>\n",
       "      <td>0.290831</td>\n",
       "      <td>0.002002</td>\n",
       "      <td>-0.122764</td>\n",
       "      <td>-0.501544</td>\n",
       "      <td>-2.309635</td>\n",
       "      <td>-0.005773</td>\n",
       "    </tr>\n",
       "    <tr>\n",
       "      <td>std</td>\n",
       "      <td>0.999909</td>\n",
       "      <td>0.182399</td>\n",
       "      <td>0.182496</td>\n",
       "      <td>0.182977</td>\n",
       "      <td>0.453279</td>\n",
       "      <td>0.565824</td>\n",
       "      <td>3.418488</td>\n",
       "      <td>8.799560</td>\n",
       "      <td>0.441537</td>\n",
       "      <td>0.420431</td>\n",
       "      <td>0.454154</td>\n",
       "      <td>0.044704</td>\n",
       "      <td>0.979974</td>\n",
       "      <td>1.956889</td>\n",
       "      <td>5.008975</td>\n",
       "      <td>0.126421</td>\n",
       "    </tr>\n",
       "    <tr>\n",
       "      <td>min</td>\n",
       "      <td>-1.714830</td>\n",
       "      <td>0.000000</td>\n",
       "      <td>0.000000</td>\n",
       "      <td>0.000000</td>\n",
       "      <td>0.000000</td>\n",
       "      <td>2018.000000</td>\n",
       "      <td>1.000000</td>\n",
       "      <td>1.000000</td>\n",
       "      <td>0.000000</td>\n",
       "      <td>0.000000</td>\n",
       "      <td>0.000000</td>\n",
       "      <td>0.000000</td>\n",
       "      <td>-5.825900</td>\n",
       "      <td>-9.998508</td>\n",
       "      <td>-19.844579</td>\n",
       "      <td>-0.581659</td>\n",
       "    </tr>\n",
       "    <tr>\n",
       "      <td>25%</td>\n",
       "      <td>-0.595773</td>\n",
       "      <td>0.000000</td>\n",
       "      <td>0.000000</td>\n",
       "      <td>0.000000</td>\n",
       "      <td>0.000000</td>\n",
       "      <td>2018.000000</td>\n",
       "      <td>4.000000</td>\n",
       "      <td>8.000000</td>\n",
       "      <td>0.000000</td>\n",
       "      <td>0.000000</td>\n",
       "      <td>0.000000</td>\n",
       "      <td>0.000000</td>\n",
       "      <td>0.000000</td>\n",
       "      <td>0.000000</td>\n",
       "      <td>-1.572082</td>\n",
       "      <td>-0.077703</td>\n",
       "    </tr>\n",
       "    <tr>\n",
       "      <td>50%</td>\n",
       "      <td>-0.267472</td>\n",
       "      <td>0.000000</td>\n",
       "      <td>0.000000</td>\n",
       "      <td>0.000000</td>\n",
       "      <td>0.000000</td>\n",
       "      <td>2019.000000</td>\n",
       "      <td>7.000000</td>\n",
       "      <td>15.000000</td>\n",
       "      <td>0.000000</td>\n",
       "      <td>0.000000</td>\n",
       "      <td>0.000000</td>\n",
       "      <td>0.000000</td>\n",
       "      <td>0.000000</td>\n",
       "      <td>0.000000</td>\n",
       "      <td>-0.011856</td>\n",
       "      <td>0.003263</td>\n",
       "    </tr>\n",
       "    <tr>\n",
       "      <td>75%</td>\n",
       "      <td>0.293513</td>\n",
       "      <td>0.000000</td>\n",
       "      <td>0.000000</td>\n",
       "      <td>0.000000</td>\n",
       "      <td>1.000000</td>\n",
       "      <td>2019.000000</td>\n",
       "      <td>10.000000</td>\n",
       "      <td>23.000000</td>\n",
       "      <td>1.000000</td>\n",
       "      <td>0.000000</td>\n",
       "      <td>1.000000</td>\n",
       "      <td>0.000000</td>\n",
       "      <td>0.000000</td>\n",
       "      <td>0.000000</td>\n",
       "      <td>0.270695</td>\n",
       "      <td>0.075303</td>\n",
       "    </tr>\n",
       "    <tr>\n",
       "      <td>max</td>\n",
       "      <td>10.922072</td>\n",
       "      <td>1.000000</td>\n",
       "      <td>1.000000</td>\n",
       "      <td>1.000000</td>\n",
       "      <td>1.000000</td>\n",
       "      <td>2020.000000</td>\n",
       "      <td>12.000000</td>\n",
       "      <td>31.000000</td>\n",
       "      <td>1.000000</td>\n",
       "      <td>1.000000</td>\n",
       "      <td>1.000000</td>\n",
       "      <td>1.000000</td>\n",
       "      <td>5.209053</td>\n",
       "      <td>5.400025</td>\n",
       "      <td>3.649289</td>\n",
       "      <td>0.313908</td>\n",
       "    </tr>\n",
       "  </tbody>\n",
       "</table>\n",
       "</div>"
      ],
      "text/plain": [
       "       AVG_BEFORE_DAYS       HOLIDAY  HOLIDAY AFTER  HOLIDAY BEFORE  \\\n",
       "count     26469.000000  26469.000000   26469.000000    26469.000000   \n",
       "mean          0.000370      0.034455       0.034493        0.034682   \n",
       "std           0.999909      0.182399       0.182496        0.182977   \n",
       "min          -1.714830      0.000000       0.000000        0.000000   \n",
       "25%          -0.595773      0.000000       0.000000        0.000000   \n",
       "50%          -0.267472      0.000000       0.000000        0.000000   \n",
       "75%           0.293513      0.000000       0.000000        0.000000   \n",
       "max          10.922072      1.000000       1.000000        1.000000   \n",
       "\n",
       "            WEEKEND  PICKUP_DATE_YEAR  PICKUP_DATE_MONTH  PICKUP_DATE_DATE  \\\n",
       "count  26469.000000      26469.000000       26469.000000      26469.000000   \n",
       "mean       0.288942       2018.618762           6.709585         15.629529   \n",
       "std        0.453279          0.565824           3.418488          8.799560   \n",
       "min        0.000000       2018.000000           1.000000          1.000000   \n",
       "25%        0.000000       2018.000000           4.000000          8.000000   \n",
       "50%        0.000000       2019.000000           7.000000         15.000000   \n",
       "75%        1.000000       2019.000000          10.000000         23.000000   \n",
       "max        1.000000       2020.000000          12.000000         31.000000   \n",
       "\n",
       "       OUTSIPP_economy  OUTSIPP_luxury  OUTSIPP_midrange  OUTSIPP_premium  \\\n",
       "count     26469.000000    26469.000000      26469.000000     26469.000000   \n",
       "mean          0.265367        0.229363          0.290831         0.002002   \n",
       "std           0.441537        0.420431          0.454154         0.044704   \n",
       "min           0.000000        0.000000          0.000000         0.000000   \n",
       "25%           0.000000        0.000000          0.000000         0.000000   \n",
       "50%           0.000000        0.000000          0.000000         0.000000   \n",
       "75%           1.000000        0.000000          1.000000         0.000000   \n",
       "max           1.000000        1.000000          1.000000         1.000000   \n",
       "\n",
       "       total_fluc_50  total_fluc_70  total_fluc_120    pct_change  \n",
       "count   26469.000000   26469.000000    26469.000000  26469.000000  \n",
       "mean       -0.122764      -0.501544       -2.309635     -0.005773  \n",
       "std         0.979974       1.956889        5.008975      0.126421  \n",
       "min        -5.825900      -9.998508      -19.844579     -0.581659  \n",
       "25%         0.000000       0.000000       -1.572082     -0.077703  \n",
       "50%         0.000000       0.000000       -0.011856      0.003263  \n",
       "75%         0.000000       0.000000        0.270695      0.075303  \n",
       "max         5.209053       5.400025        3.649289      0.313908  "
      ]
     },
     "execution_count": 17,
     "metadata": {},
     "output_type": "execute_result"
    }
   ],
   "source": [
    "ml_data.describe()"
   ]
  },
  {
   "cell_type": "code",
   "execution_count": 18,
   "metadata": {},
   "outputs": [],
   "source": [
    "ml_data.to_csv(\"../Data/final_merged_data.csv\" , index = False)"
   ]
  },
  {
   "cell_type": "code",
   "execution_count": 19,
   "metadata": {},
   "outputs": [
    {
     "data": {
      "text/plain": [
       "Index(['AVG_BEFORE_DAYS', 'HOLIDAY', 'HOLIDAY AFTER', 'HOLIDAY BEFORE',\n",
       "       'WEEKEND', 'CHANGE', 'PICKUP_DATE_YEAR', 'PICKUP_DATE_MONTH',\n",
       "       'PICKUP_DATE_DATE', 'OUTSIPP_economy', 'OUTSIPP_luxury',\n",
       "       'OUTSIPP_midrange', 'OUTSIPP_premium', 'total_fluc_50', 'total_fluc_70',\n",
       "       'total_fluc_120', 'pct_change'],\n",
       "      dtype='object')"
      ]
     },
     "execution_count": 19,
     "metadata": {},
     "output_type": "execute_result"
    }
   ],
   "source": [
    "ml_data.columns"
   ]
  },
  {
   "cell_type": "code",
   "execution_count": 20,
   "metadata": {},
   "outputs": [],
   "source": [
    "classification_columns = [x for x in ml_data.columns.to_list() if x != \"CHANGE\"]\n",
    "X = ml_data[classification_columns]\n",
    "y = ml_data[\"CHANGE\"]"
   ]
  },
  {
   "cell_type": "code",
   "execution_count": 21,
   "metadata": {},
   "outputs": [],
   "source": [
    "X_train = X[:int(X.shape[0]*0.7)]\n",
    "X_test = X[int(X.shape[0]*0.7):]\n",
    "y_train = y[:int(X.shape[0]*0.7)]\n",
    "y_test = y[int(X.shape[0]*0.7):]"
   ]
  },
  {
   "cell_type": "code",
   "execution_count": 22,
   "metadata": {},
   "outputs": [
    {
     "name": "stdout",
     "output_type": "stream",
     "text": [
      "Min train date: 201802\n",
      "Max train date: 201907\n",
      "\n",
      "Min test date: 201907\n",
      "Max test date: 202001\n"
     ]
    }
   ],
   "source": [
    "# Checking correct sort order for train test splits\n",
    "print(\"Min train date:\", min(X_train[\"PICKUP_DATE_YEAR\"]*100 + X_train[\"PICKUP_DATE_MONTH\"]))\n",
    "print(\"Max train date:\", max(X_train[\"PICKUP_DATE_YEAR\"]*100 + X_train[\"PICKUP_DATE_MONTH\"]))\n",
    "print()\n",
    "print(\"Min test date:\", min(X_test[\"PICKUP_DATE_YEAR\"]*100 + X_test[\"PICKUP_DATE_MONTH\"]))\n",
    "print(\"Max test date:\", max(X_test[\"PICKUP_DATE_YEAR\"]*100 + X_test[\"PICKUP_DATE_MONTH\"]))"
   ]
  },
  {
   "cell_type": "code",
   "execution_count": 23,
   "metadata": {},
   "outputs": [],
   "source": [
    "# Importing\n",
    "from sklearn.model_selection import cross_val_score\n",
    "from sklearn.model_selection import GridSearchCV\n",
    "from sklearn.ensemble import RandomForestClassifier\n",
    "from sklearn.metrics import accuracy_score, roc_auc_score, balanced_accuracy_score, make_scorer"
   ]
  },
  {
   "cell_type": "code",
   "execution_count": null,
   "metadata": {},
   "outputs": [],
   "source": [
    "#Scale\n",
    "\n",
    "#Scale only on train and learn\n",
    "\n",
    "#Scale transform on test and then predict\n"
   ]
  },
  {
   "cell_type": "code",
   "execution_count": 24,
   "metadata": {},
   "outputs": [
    {
     "data": {
      "text/plain": [
       "RandomForestClassifier(bootstrap=True, class_weight=None, criterion='gini',\n",
       "                       max_depth=4, max_features='auto', max_leaf_nodes=None,\n",
       "                       min_impurity_decrease=0.0, min_impurity_split=None,\n",
       "                       min_samples_leaf=1, min_samples_split=2,\n",
       "                       min_weight_fraction_leaf=0.0, n_estimators=100,\n",
       "                       n_jobs=None, oob_score=False, random_state=1, verbose=0,\n",
       "                       warm_start=False)"
      ]
     },
     "execution_count": 24,
     "metadata": {},
     "output_type": "execute_result"
    }
   ],
   "source": [
    "# Reinitializing the best model from version 1\n",
    "best_model = RandomForestClassifier(random_state=1, criterion=\"gini\", max_depth=4, max_features=\"auto\", \n",
    "                                   n_estimators=100)\n",
    "best_model.fit(X_train,y_train)"
   ]
  },
  {
   "cell_type": "code",
   "execution_count": 28,
   "metadata": {},
   "outputs": [
    {
     "name": "stdout",
     "output_type": "stream",
     "text": [
      "Accuracy for best Random Forest on train data:  0.5517594991364422\n"
     ]
    }
   ],
   "source": [
    "pred_train = best_model.predict(X_train)\n",
    "print(\"Accuracy for best Random Forest on train data: \",accuracy_score(y_train,pred_train))"
   ]
  },
  {
   "cell_type": "code",
   "execution_count": 25,
   "metadata": {},
   "outputs": [
    {
     "name": "stdout",
     "output_type": "stream",
     "text": [
      "v1 accuracy was 0.4384800965018094\n",
      "v2 accuracy was 0.4978621730382294\n",
      "Accuracy for best Random Forest on CV data:  0.5159299836292658\n"
     ]
    }
   ],
   "source": [
    "pred = best_model.predict(X_test)\n",
    "print(\"v1 accuracy was 0.4384800965018094\")\n",
    "print(\"v2 accuracy was 0.4978621730382294\")\n",
    "print(\"Accuracy for best Random Forest on CV data: \",accuracy_score(y_test,pred))"
   ]
  },
  {
   "cell_type": "code",
   "execution_count": null,
   "metadata": {},
   "outputs": [],
   "source": []
  },
  {
   "cell_type": "code",
   "execution_count": 26,
   "metadata": {},
   "outputs": [
    {
     "name": "stdout",
     "output_type": "stream",
     "text": [
      "v1 accuraacy was 0.3545006982085526\n",
      "v2 accuracy was 0.43731073543230964\n",
      "Balanced Accuracy for default Random Forest on CV data:  0.4478086195947882\n"
     ]
    }
   ],
   "source": [
    "print(\"v1 accuraacy was 0.3545006982085526\")\n",
    "print(\"v2 accuracy was 0.43731073543230964\")\n",
    "print(\"Balanced Accuracy for default Random Forest on CV data: \",balanced_accuracy_score(y_test,pred))"
   ]
  },
  {
   "cell_type": "code",
   "execution_count": 27,
   "metadata": {},
   "outputs": [
    {
     "name": "stdout",
     "output_type": "stream",
     "text": [
      "AVG_BEFORE_DAYS 0.12\n",
      "HOLIDAY 0.0\n",
      "HOLIDAY AFTER 0.0\n",
      "HOLIDAY BEFORE 0.0\n",
      "WEEKEND 0.0\n",
      "PICKUP_DATE_YEAR 0.03\n",
      "PICKUP_DATE_MONTH 0.34\n",
      "PICKUP_DATE_DATE 0.09\n",
      "OUTSIPP_economy 0.01\n",
      "OUTSIPP_luxury 0.01\n",
      "OUTSIPP_midrange 0.0\n",
      "OUTSIPP_premium 0.0\n",
      "total_fluc_50 0.11\n",
      "total_fluc_70 0.07\n",
      "total_fluc_120 0.14\n",
      "pct_change 0.07\n"
     ]
    }
   ],
   "source": [
    "for x, y in zip(X_train.columns.tolist(), best_model.feature_importances_):\n",
    "    temp = (x,round(y,2)) \n",
    "    print(x,round(y,2))"
   ]
  },
  {
   "cell_type": "code",
   "execution_count": null,
   "metadata": {},
   "outputs": [],
   "source": []
  },
  {
   "cell_type": "markdown",
   "metadata": {},
   "source": [
    "# Machine Learning - Support Vector Machines"
   ]
  },
  {
   "cell_type": "code",
   "execution_count": 26,
   "metadata": {},
   "outputs": [],
   "source": [
    "# import\n",
    "from sklearn.svm import SVC"
   ]
  },
  {
   "cell_type": "code",
   "execution_count": 27,
   "metadata": {},
   "outputs": [],
   "source": [
    "clf = SVC(gamma='auto')\n",
    "clf.fit(X_train,y_train)\n",
    "clf_predict = clf.predict(X_test)"
   ]
  },
  {
   "cell_type": "code",
   "execution_count": 28,
   "metadata": {},
   "outputs": [
    {
     "name": "stdout",
     "output_type": "stream",
     "text": [
      "Accuracy for best default SVM on CV data:  0.4262687318977459\n"
     ]
    }
   ],
   "source": [
    "print(\"Accuracy for best default SVM on CV data: \",accuracy_score(y_test,clf_predict))"
   ]
  },
  {
   "cell_type": "code",
   "execution_count": 29,
   "metadata": {},
   "outputs": [
    {
     "name": "stdout",
     "output_type": "stream",
     "text": [
      "Balanced Accuracy for default Random Forest on CV data:  0.4118716686083507\n"
     ]
    }
   ],
   "source": [
    "print(\"Balanced Accuracy for default Random Forest on CV data: \",balanced_accuracy_score(y_test,clf_predict))"
   ]
  },
  {
   "cell_type": "code",
   "execution_count": 30,
   "metadata": {},
   "outputs": [],
   "source": [
    "# %timeit\n",
    "# clf2 = SVC(gamma='auto', kernel = \"linear\")\n",
    "# clf2.fit(X_train,y_train)\n",
    "# clf_predict2 = clf2.predict(X_test)\n",
    "# print(\"Accuracy for best default SVM on CV data: \",accuracy_score(y_test,clf_predict2))\n",
    "# print(\"Balanced Accuracy for default Random Forest on CV data: \",balanced_accuracy_score(y_test,clf_predict2))"
   ]
  },
  {
   "cell_type": "code",
   "execution_count": 31,
   "metadata": {},
   "outputs": [],
   "source": [
    "# %timeit\n",
    "# clf3 = SVC(gamma='auto', kernel = \"poly\")\n",
    "# clf3.fit(np.asarray(X_train),np.asarray(y_train))\n",
    "# clf_predict3 = clf3.predict(np.asarray(X_test))\n",
    "# print(\"Accuracy for best default SVM on CV data: \",accuracy_score(np.asarray(y_test),clf_predict3))\n",
    "# print(\"Balanced Accuracy for default Random Forest on CV data: \",balanced_accuracy_score(np.asarray(y_test),clf_predict3))"
   ]
  },
  {
   "cell_type": "code",
   "execution_count": null,
   "metadata": {},
   "outputs": [],
   "source": []
  }
 ],
 "metadata": {
  "kernelspec": {
   "display_name": "Python 3",
   "language": "python",
   "name": "python3"
  },
  "language_info": {
   "codemirror_mode": {
    "name": "ipython",
    "version": 3
   },
   "file_extension": ".py",
   "mimetype": "text/x-python",
   "name": "python",
   "nbconvert_exporter": "python",
   "pygments_lexer": "ipython3",
   "version": "3.7.4"
  }
 },
 "nbformat": 4,
 "nbformat_minor": 4
}
