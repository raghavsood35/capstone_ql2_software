{
 "cells": [
  {
   "cell_type": "markdown",
   "metadata": {},
   "source": [
    "# Connecting to Snowflake"
   ]
  },
  {
   "cell_type": "code",
   "execution_count": 1,
   "metadata": {},
   "outputs": [
    {
     "name": "stderr",
     "output_type": "stream",
     "text": [
      "/Users/raghavsood/anaconda3/lib/python3.7/site-packages/requests/__init__.py:91: RequestsDependencyWarning: urllib3 (1.25.8) or chardet (3.0.4) doesn't match a supported version!\n",
      "  RequestsDependencyWarning)\n"
     ]
    }
   ],
   "source": [
    "# imports\n",
    "import snowflake.connector as sf\n",
    "from snowflake.connector import DictCursor"
   ]
  },
  {
   "cell_type": "code",
   "execution_count": 2,
   "metadata": {},
   "outputs": [],
   "source": [
    "# credentials\n",
    "username = \"CMU\"\n",
    "password = \"ql2_analytics\"\n",
    "database = \"QL2_PROD\"\n",
    "account_name = \"zk56677\"\n",
    "warehouse = \"CMU_WAREHOUSE\""
   ]
  },
  {
   "cell_type": "code",
   "execution_count": 3,
   "metadata": {},
   "outputs": [],
   "source": [
    "# Creating a connection - needs some dependencies on a specific machine\n",
    "# if error use this conda install asn1crypto===0.24.0\n",
    "conn = sf.connect(user=username, password=password, account=account_name, warehouse=warehouse,\n",
    "                database=database)"
   ]
  },
  {
   "cell_type": "code",
   "execution_count": 4,
   "metadata": {},
   "outputs": [],
   "source": [
    "def execute_sql(connection, sql):\n",
    "    cursor = connection.cursor(DictCursor)\n",
    "    return cursor.execute(sql)"
   ]
  },
  {
   "cell_type": "code",
   "execution_count": 5,
   "metadata": {},
   "outputs": [
    {
     "name": "stdout",
     "output_type": "stream",
     "text": [
      "{'COLLECT_DATE': datetime.datetime(2018, 1, 1, 0, 46), 'QL2_QTS': 5844, 'FROM_AIRPORT': 'LAX', 'TO_AIRPORT': 'SFO', 'SITE': 'UA', 'CXR': 'UA', 'DDATE': datetime.date(2018, 1, 21), 'DSTP': 0, 'CURRENCY': 'USD', 'DFLIGHT': '1181', 'DTIME': '06:00', 'DROUTE': '06:00 - LAX :: 07:28 - SFO', 'FARE': Decimal('39.20')}\n",
      "{'COLLECT_DATE': datetime.datetime(2018, 1, 1, 0, 47), 'QL2_QTS': 5844, 'FROM_AIRPORT': 'EWR', 'TO_AIRPORT': 'LAX', 'SITE': 'UA', 'CXR': 'UA', 'DDATE': datetime.date(2018, 1, 22), 'DSTP': 0, 'CURRENCY': 'USD', 'DFLIGHT': '1600', 'DTIME': '17:35', 'DROUTE': '17:35 - EWR :: 20:53 - LAX', 'FARE': Decimal('118.20')}\n",
      "{'COLLECT_DATE': datetime.datetime(2018, 1, 1, 0, 44), 'QL2_QTS': 5844, 'FROM_AIRPORT': 'LAX', 'TO_AIRPORT': 'SFO', 'SITE': 'UA', 'CXR': 'UA', 'DDATE': datetime.date(2018, 1, 22), 'DSTP': 0, 'CURRENCY': 'USD', 'DFLIGHT': '1294', 'DTIME': '08:15', 'DROUTE': '08:15 - LAX :: 10:00 - SFO', 'FARE': Decimal('39.20')}\n",
      "{'COLLECT_DATE': datetime.datetime(2018, 1, 1, 0, 45), 'QL2_QTS': 5844, 'FROM_AIRPORT': 'EWR', 'TO_AIRPORT': 'LAX', 'SITE': 'UA', 'CXR': 'UA', 'DDATE': datetime.date(2018, 1, 23), 'DSTP': 0, 'CURRENCY': 'USD', 'DFLIGHT': '1165', 'DTIME': '21:00', 'DROUTE': '21:00 - EWR :: 00:21 - LAX', 'FARE': Decimal('118.20')}\n",
      "{'COLLECT_DATE': datetime.datetime(2018, 1, 1, 0, 46), 'QL2_QTS': 5844, 'FROM_AIRPORT': 'EWR', 'TO_AIRPORT': 'SFO', 'SITE': 'UA', 'CXR': 'UA', 'DDATE': datetime.date(2018, 1, 23), 'DSTP': 0, 'CURRENCY': 'USD', 'DFLIGHT': '1584', 'DTIME': '17:28', 'DROUTE': '17:28 - EWR :: 21:04 - SFO', 'FARE': Decimal('113.20')}\n",
      "{'COLLECT_DATE': datetime.datetime(2018, 1, 1, 0, 46), 'QL2_QTS': 5844, 'FROM_AIRPORT': 'LAX', 'TO_AIRPORT': 'SFO', 'SITE': 'UA', 'CXR': 'UA', 'DDATE': datetime.date(2018, 1, 23), 'DSTP': 0, 'CURRENCY': 'USD', 'DFLIGHT': '1181', 'DTIME': '06:00', 'DROUTE': '06:00 - LAX :: 07:28 - SFO', 'FARE': Decimal('39.20')}\n",
      "{'COLLECT_DATE': datetime.datetime(2018, 1, 1, 0, 49), 'QL2_QTS': 5844, 'FROM_AIRPORT': 'EWR', 'TO_AIRPORT': 'LAX', 'SITE': 'UA', 'CXR': 'UA', 'DDATE': datetime.date(2018, 1, 30), 'DSTP': 0, 'CURRENCY': 'USD', 'DFLIGHT': '1165', 'DTIME': '21:00', 'DROUTE': '21:00 - EWR :: 00:21 - LAX', 'FARE': Decimal('118.20')}\n",
      "{'COLLECT_DATE': datetime.datetime(2018, 1, 1, 0, 19), 'QL2_QTS': 5844, 'FROM_AIRPORT': 'EWR', 'TO_AIRPORT': 'SFO', 'SITE': 'UA', 'CXR': 'UA', 'DDATE': datetime.date(2018, 1, 30), 'DSTP': 0, 'CURRENCY': 'USD', 'DFLIGHT': '1584', 'DTIME': '17:28', 'DROUTE': '17:28 - EWR :: 21:04 - SFO', 'FARE': Decimal('113.20')}\n",
      "{'COLLECT_DATE': datetime.datetime(2018, 1, 1, 0, 19), 'QL2_QTS': 5844, 'FROM_AIRPORT': 'LAX', 'TO_AIRPORT': 'SFO', 'SITE': 'UA', 'CXR': 'UA', 'DDATE': datetime.date(2018, 1, 30), 'DSTP': 0, 'CURRENCY': 'USD', 'DFLIGHT': '1181', 'DTIME': '06:00', 'DROUTE': '06:00 - LAX :: 07:28 - SFO', 'FARE': Decimal('39.20')}\n",
      "{'COLLECT_DATE': datetime.datetime(2018, 1, 1, 0, 23), 'QL2_QTS': 5844, 'FROM_AIRPORT': 'LAX', 'TO_AIRPORT': 'SFO', 'SITE': 'UA', 'CXR': 'UA', 'DDATE': datetime.date(2018, 1, 3), 'DSTP': 0, 'CURRENCY': 'USD', 'DFLIGHT': '1294', 'DTIME': '07:10', 'DROUTE': '07:10 - LAX :: 08:42 - SFO', 'FARE': Decimal('133.20')}\n",
      "CPU times: user 19.5 ms, sys: 3.87 ms, total: 23.4 ms\n",
      "Wall time: 6.55 s\n"
     ]
    }
   ],
   "source": [
    "%%time\n",
    "sql = \"\"\"select top 10 * from \"QL2_PROD\".\"PUBLIC\".\"CMU_AIRFARE\";\"\"\"\n",
    "try:\n",
    "    output = execute_sql(conn, sql)\n",
    "    for line in output:\n",
    "        print(line)\n",
    "except Exception as e:\n",
    "    print(e)\n",
    "finally:\n",
    "    conn.close()"
   ]
  }
 ],
 "metadata": {
  "kernelspec": {
   "display_name": "Python 3",
   "language": "python",
   "name": "python3"
  },
  "language_info": {
   "codemirror_mode": {
    "name": "ipython",
    "version": 3
   },
   "file_extension": ".py",
   "mimetype": "text/x-python",
   "name": "python",
   "nbconvert_exporter": "python",
   "pygments_lexer": "ipython3",
   "version": "3.7.3"
  }
 },
 "nbformat": 4,
 "nbformat_minor": 4
}
