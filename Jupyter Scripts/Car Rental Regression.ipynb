{
 "cells": [
  {
   "cell_type": "markdown",
   "metadata": {},
   "source": [
    "## Predict the average daily fare of car rental using car data only\n",
    "\n",
    "Jiabin Chen <br>\n",
    "2/24/2020 "
   ]
  },
  {
   "cell_type": "markdown",
   "metadata": {},
   "source": [
    "import modules"
   ]
  },
  {
   "cell_type": "code",
   "execution_count": 1,
   "metadata": {},
   "outputs": [],
   "source": [
    "import pandas as pd"
   ]
  },
  {
   "cell_type": "code",
   "execution_count": 36,
   "metadata": {},
   "outputs": [],
   "source": [
    "import matplotlib.pyplot as plt"
   ]
  },
  {
   "cell_type": "code",
   "execution_count": 37,
   "metadata": {},
   "outputs": [],
   "source": [
    "from datetime import datetime"
   ]
  },
  {
   "cell_type": "code",
   "execution_count": 103,
   "metadata": {},
   "outputs": [],
   "source": [
    "from sklearn.model_selection import train_test_split\n",
    "from sklearn.linear_model import LinearRegression\n",
    "from sklearn.metrics import mean_squared_error\n",
    "from sklearn import linear_model"
   ]
  },
  {
   "cell_type": "code",
   "execution_count": 106,
   "metadata": {},
   "outputs": [],
   "source": [
    "from math import sqrt"
   ]
  },
  {
   "cell_type": "markdown",
   "metadata": {},
   "source": [
    "### Data Preparation\n",
    "Since the data size is big, we couldn't download all data from the database together. We downloaded them seperately and combined using Python."
   ]
  },
  {
   "cell_type": "code",
   "execution_count": 2,
   "metadata": {},
   "outputs": [],
   "source": [
    "d1 = pd.read_csv(\"LAX_pdate_1.csv\")"
   ]
  },
  {
   "cell_type": "code",
   "execution_count": 3,
   "metadata": {},
   "outputs": [],
   "source": [
    "d2 = pd.read_csv(\"LAX_Midsize_Jul to Dec.csv\")"
   ]
  },
  {
   "cell_type": "code",
   "execution_count": 5,
   "metadata": {},
   "outputs": [
    {
     "data": {
      "text/plain": [
       "<bound method NDFrame.head of       AGENCY       PDATE       DDATE  LOR  MIN_DAILY_FARE  AVG_DAILY_FARE\n",
       "0         ZR  2019-01-29  2019-01-30    1        32.67000       69.630560\n",
       "1         ZT  2019-01-29  2019-01-30    1        32.66000       72.093254\n",
       "2         ET  2019-01-29  2019-01-30    1        55.88000       87.786838\n",
       "3         ZE  2019-01-31  2019-02-01    1        41.00000       80.173371\n",
       "4         ZT  2019-01-09  2019-01-10    1        24.97000       46.776791\n",
       "...      ...         ...         ...  ...             ...             ...\n",
       "13679     ET  2019-06-30  2019-07-02    2        25.62000       66.100028\n",
       "13680     ZR  2019-06-29  2019-07-01    2        31.01000       65.534640\n",
       "13681     ZT  2019-06-29  2019-07-07    8        26.29625       50.773708\n",
       "13682     ZT  2019-06-30  2019-07-08    8        25.81000       56.335199\n",
       "13683     ZI  2019-06-21  2019-06-22    1        99.26000      106.175789\n",
       "\n",
       "[13684 rows x 6 columns]>"
      ]
     },
     "execution_count": 5,
     "metadata": {},
     "output_type": "execute_result"
    }
   ],
   "source": [
    "d1.head"
   ]
  },
  {
   "cell_type": "code",
   "execution_count": 6,
   "metadata": {},
   "outputs": [
    {
     "data": {
      "text/plain": [
       "<bound method NDFrame.head of       AGENCY       PDATE       DDATE  LOR  MIN_DAILY_FARE  AVG_DAILY_FARE\n",
       "0         ZE  2019-08-19  2019-08-28    9       41.197778       68.981905\n",
       "1         ZR  2019-10-14  2019-10-15    1       54.440000       82.182584\n",
       "2         ET  2019-07-19  2019-07-21    2       74.160000      100.439446\n",
       "3         ZT  2019-07-19  2019-07-21    2       55.830000       91.624305\n",
       "4         ZT  2019-09-09  2019-09-17    8       34.757500       53.884875\n",
       "...      ...         ...         ...  ...             ...             ...\n",
       "14695     ZI  2019-12-20  2019-12-21    1       61.320000       77.796547\n",
       "14696     ZD  2019-12-29  2019-12-30    1      104.890000      104.890000\n",
       "14697     ZE  2019-12-19  2019-12-25    6       64.806667      100.442161\n",
       "14698     ZD  2019-12-28  2020-01-27   30       38.989333       41.233374\n",
       "14699     ZD  2019-12-29  2019-12-31    2      104.905000      105.760185\n",
       "\n",
       "[14700 rows x 6 columns]>"
      ]
     },
     "execution_count": 6,
     "metadata": {},
     "output_type": "execute_result"
    }
   ],
   "source": [
    "d2.head"
   ]
  },
  {
   "cell_type": "code",
   "execution_count": 14,
   "metadata": {},
   "outputs": [],
   "source": [
    "d = d1.append(d2, ignore_index=True)"
   ]
  },
  {
   "cell_type": "code",
   "execution_count": 15,
   "metadata": {},
   "outputs": [
    {
     "data": {
      "text/html": [
       "<div>\n",
       "<style scoped>\n",
       "    .dataframe tbody tr th:only-of-type {\n",
       "        vertical-align: middle;\n",
       "    }\n",
       "\n",
       "    .dataframe tbody tr th {\n",
       "        vertical-align: top;\n",
       "    }\n",
       "\n",
       "    .dataframe thead th {\n",
       "        text-align: right;\n",
       "    }\n",
       "</style>\n",
       "<table border=\"1\" class=\"dataframe\">\n",
       "  <thead>\n",
       "    <tr style=\"text-align: right;\">\n",
       "      <th></th>\n",
       "      <th>AGENCY</th>\n",
       "      <th>PDATE</th>\n",
       "      <th>DDATE</th>\n",
       "      <th>LOR</th>\n",
       "      <th>MIN_DAILY_FARE</th>\n",
       "      <th>AVG_DAILY_FARE</th>\n",
       "    </tr>\n",
       "  </thead>\n",
       "  <tbody>\n",
       "    <tr>\n",
       "      <td>0</td>\n",
       "      <td>ZR</td>\n",
       "      <td>2019-01-29</td>\n",
       "      <td>2019-01-30</td>\n",
       "      <td>1</td>\n",
       "      <td>32.670000</td>\n",
       "      <td>69.630560</td>\n",
       "    </tr>\n",
       "    <tr>\n",
       "      <td>1</td>\n",
       "      <td>ZT</td>\n",
       "      <td>2019-01-29</td>\n",
       "      <td>2019-01-30</td>\n",
       "      <td>1</td>\n",
       "      <td>32.660000</td>\n",
       "      <td>72.093254</td>\n",
       "    </tr>\n",
       "    <tr>\n",
       "      <td>2</td>\n",
       "      <td>ET</td>\n",
       "      <td>2019-01-29</td>\n",
       "      <td>2019-01-30</td>\n",
       "      <td>1</td>\n",
       "      <td>55.880000</td>\n",
       "      <td>87.786838</td>\n",
       "    </tr>\n",
       "    <tr>\n",
       "      <td>3</td>\n",
       "      <td>ZE</td>\n",
       "      <td>2019-01-31</td>\n",
       "      <td>2019-02-01</td>\n",
       "      <td>1</td>\n",
       "      <td>41.000000</td>\n",
       "      <td>80.173371</td>\n",
       "    </tr>\n",
       "    <tr>\n",
       "      <td>4</td>\n",
       "      <td>ZT</td>\n",
       "      <td>2019-01-09</td>\n",
       "      <td>2019-01-10</td>\n",
       "      <td>1</td>\n",
       "      <td>24.970000</td>\n",
       "      <td>46.776791</td>\n",
       "    </tr>\n",
       "    <tr>\n",
       "      <td>...</td>\n",
       "      <td>...</td>\n",
       "      <td>...</td>\n",
       "      <td>...</td>\n",
       "      <td>...</td>\n",
       "      <td>...</td>\n",
       "      <td>...</td>\n",
       "    </tr>\n",
       "    <tr>\n",
       "      <td>28379</td>\n",
       "      <td>ZI</td>\n",
       "      <td>2019-12-20</td>\n",
       "      <td>2019-12-21</td>\n",
       "      <td>1</td>\n",
       "      <td>61.320000</td>\n",
       "      <td>77.796547</td>\n",
       "    </tr>\n",
       "    <tr>\n",
       "      <td>28380</td>\n",
       "      <td>ZD</td>\n",
       "      <td>2019-12-29</td>\n",
       "      <td>2019-12-30</td>\n",
       "      <td>1</td>\n",
       "      <td>104.890000</td>\n",
       "      <td>104.890000</td>\n",
       "    </tr>\n",
       "    <tr>\n",
       "      <td>28381</td>\n",
       "      <td>ZE</td>\n",
       "      <td>2019-12-19</td>\n",
       "      <td>2019-12-25</td>\n",
       "      <td>6</td>\n",
       "      <td>64.806667</td>\n",
       "      <td>100.442161</td>\n",
       "    </tr>\n",
       "    <tr>\n",
       "      <td>28382</td>\n",
       "      <td>ZD</td>\n",
       "      <td>2019-12-28</td>\n",
       "      <td>2020-01-27</td>\n",
       "      <td>30</td>\n",
       "      <td>38.989333</td>\n",
       "      <td>41.233374</td>\n",
       "    </tr>\n",
       "    <tr>\n",
       "      <td>28383</td>\n",
       "      <td>ZD</td>\n",
       "      <td>2019-12-29</td>\n",
       "      <td>2019-12-31</td>\n",
       "      <td>2</td>\n",
       "      <td>104.905000</td>\n",
       "      <td>105.760185</td>\n",
       "    </tr>\n",
       "  </tbody>\n",
       "</table>\n",
       "<p>28384 rows × 6 columns</p>\n",
       "</div>"
      ],
      "text/plain": [
       "      AGENCY       PDATE       DDATE  LOR  MIN_DAILY_FARE  AVG_DAILY_FARE\n",
       "0         ZR  2019-01-29  2019-01-30    1       32.670000       69.630560\n",
       "1         ZT  2019-01-29  2019-01-30    1       32.660000       72.093254\n",
       "2         ET  2019-01-29  2019-01-30    1       55.880000       87.786838\n",
       "3         ZE  2019-01-31  2019-02-01    1       41.000000       80.173371\n",
       "4         ZT  2019-01-09  2019-01-10    1       24.970000       46.776791\n",
       "...      ...         ...         ...  ...             ...             ...\n",
       "28379     ZI  2019-12-20  2019-12-21    1       61.320000       77.796547\n",
       "28380     ZD  2019-12-29  2019-12-30    1      104.890000      104.890000\n",
       "28381     ZE  2019-12-19  2019-12-25    6       64.806667      100.442161\n",
       "28382     ZD  2019-12-28  2020-01-27   30       38.989333       41.233374\n",
       "28383     ZD  2019-12-29  2019-12-31    2      104.905000      105.760185\n",
       "\n",
       "[28384 rows x 6 columns]"
      ]
     },
     "execution_count": 15,
     "metadata": {},
     "output_type": "execute_result"
    }
   ],
   "source": [
    "d"
   ]
  },
  {
   "cell_type": "markdown",
   "metadata": {},
   "source": [
    "For time series data, we first tried the basic preprocessing method, which is converting datatime data into categorical data (month, day). "
   ]
  },
  {
   "cell_type": "code",
   "execution_count": 22,
   "metadata": {},
   "outputs": [],
   "source": [
    "d['MONTH_PDATE'] = \"\"\n",
    "d['DAY_PDATE'] = \"\""
   ]
  },
  {
   "cell_type": "code",
   "execution_count": 29,
   "metadata": {},
   "outputs": [
    {
     "name": "stderr",
     "output_type": "stream",
     "text": [
      "D:\\Anaconda201910\\lib\\site-packages\\ipykernel_launcher.py:2: SettingWithCopyWarning: \n",
      "A value is trying to be set on a copy of a slice from a DataFrame\n",
      "\n",
      "See the caveats in the documentation: http://pandas.pydata.org/pandas-docs/stable/user_guide/indexing.html#returning-a-view-versus-a-copy\n",
      "  \n",
      "D:\\Anaconda201910\\lib\\site-packages\\ipykernel_launcher.py:3: SettingWithCopyWarning: \n",
      "A value is trying to be set on a copy of a slice from a DataFrame\n",
      "\n",
      "See the caveats in the documentation: http://pandas.pydata.org/pandas-docs/stable/user_guide/indexing.html#returning-a-view-versus-a-copy\n",
      "  This is separate from the ipykernel package so we can avoid doing imports until\n"
     ]
    }
   ],
   "source": [
    "for i in range(0,len(d)):\n",
    "    d['MONTH_PDATE'][i] = d['PDATE'][i].split(\"-\")[1]\n",
    "    d['DAY_PDATE'][i] = d['PDATE'][i].split(\"-\")[2]"
   ]
  },
  {
   "cell_type": "code",
   "execution_count": 45,
   "metadata": {},
   "outputs": [],
   "source": [
    "d = d.sort_values(by=['PDATE'])"
   ]
  },
  {
   "cell_type": "code",
   "execution_count": 46,
   "metadata": {},
   "outputs": [
    {
     "data": {
      "text/html": [
       "<div>\n",
       "<style scoped>\n",
       "    .dataframe tbody tr th:only-of-type {\n",
       "        vertical-align: middle;\n",
       "    }\n",
       "\n",
       "    .dataframe tbody tr th {\n",
       "        vertical-align: top;\n",
       "    }\n",
       "\n",
       "    .dataframe thead th {\n",
       "        text-align: right;\n",
       "    }\n",
       "</style>\n",
       "<table border=\"1\" class=\"dataframe\">\n",
       "  <thead>\n",
       "    <tr style=\"text-align: right;\">\n",
       "      <th></th>\n",
       "      <th>AGENCY</th>\n",
       "      <th>PDATE</th>\n",
       "      <th>DDATE</th>\n",
       "      <th>LOR</th>\n",
       "      <th>MIN_DAILY_FARE</th>\n",
       "      <th>AVG_DAILY_FARE</th>\n",
       "      <th>MONTH_PDATE</th>\n",
       "      <th>DAY_PDATE</th>\n",
       "    </tr>\n",
       "  </thead>\n",
       "  <tbody>\n",
       "    <tr>\n",
       "      <td>7380</td>\n",
       "      <td>ZE</td>\n",
       "      <td>2019-01-01</td>\n",
       "      <td>2019-01-06</td>\n",
       "      <td>5</td>\n",
       "      <td>30.978000</td>\n",
       "      <td>72.084419</td>\n",
       "      <td>01</td>\n",
       "      <td>01</td>\n",
       "    </tr>\n",
       "    <tr>\n",
       "      <td>8949</td>\n",
       "      <td>ZR</td>\n",
       "      <td>2019-01-01</td>\n",
       "      <td>2019-01-02</td>\n",
       "      <td>1</td>\n",
       "      <td>18.760000</td>\n",
       "      <td>50.374389</td>\n",
       "      <td>01</td>\n",
       "      <td>01</td>\n",
       "    </tr>\n",
       "    <tr>\n",
       "      <td>444</td>\n",
       "      <td>ZT</td>\n",
       "      <td>2019-01-01</td>\n",
       "      <td>2019-01-06</td>\n",
       "      <td>5</td>\n",
       "      <td>24.966000</td>\n",
       "      <td>38.488829</td>\n",
       "      <td>01</td>\n",
       "      <td>01</td>\n",
       "    </tr>\n",
       "    <tr>\n",
       "      <td>12372</td>\n",
       "      <td>ET</td>\n",
       "      <td>2019-01-01</td>\n",
       "      <td>2019-01-10</td>\n",
       "      <td>9</td>\n",
       "      <td>22.786667</td>\n",
       "      <td>59.388324</td>\n",
       "      <td>01</td>\n",
       "      <td>01</td>\n",
       "    </tr>\n",
       "    <tr>\n",
       "      <td>12373</td>\n",
       "      <td>ZD</td>\n",
       "      <td>2019-01-01</td>\n",
       "      <td>2019-01-10</td>\n",
       "      <td>9</td>\n",
       "      <td>26.008889</td>\n",
       "      <td>52.202661</td>\n",
       "      <td>01</td>\n",
       "      <td>01</td>\n",
       "    </tr>\n",
       "    <tr>\n",
       "      <td>...</td>\n",
       "      <td>...</td>\n",
       "      <td>...</td>\n",
       "      <td>...</td>\n",
       "      <td>...</td>\n",
       "      <td>...</td>\n",
       "      <td>...</td>\n",
       "      <td>...</td>\n",
       "      <td>...</td>\n",
       "    </tr>\n",
       "    <tr>\n",
       "      <td>28309</td>\n",
       "      <td>ZI</td>\n",
       "      <td>2019-12-31</td>\n",
       "      <td>2020-01-05</td>\n",
       "      <td>5</td>\n",
       "      <td>70.078000</td>\n",
       "      <td>123.885821</td>\n",
       "      <td>12</td>\n",
       "      <td>31</td>\n",
       "    </tr>\n",
       "    <tr>\n",
       "      <td>17278</td>\n",
       "      <td>ZR</td>\n",
       "      <td>2019-12-31</td>\n",
       "      <td>2020-01-09</td>\n",
       "      <td>9</td>\n",
       "      <td>17.620000</td>\n",
       "      <td>60.839116</td>\n",
       "      <td>12</td>\n",
       "      <td>31</td>\n",
       "    </tr>\n",
       "    <tr>\n",
       "      <td>19096</td>\n",
       "      <td>AL</td>\n",
       "      <td>2019-12-31</td>\n",
       "      <td>2020-01-30</td>\n",
       "      <td>30</td>\n",
       "      <td>36.514667</td>\n",
       "      <td>40.383893</td>\n",
       "      <td>12</td>\n",
       "      <td>31</td>\n",
       "    </tr>\n",
       "    <tr>\n",
       "      <td>17281</td>\n",
       "      <td>ET</td>\n",
       "      <td>2019-12-31</td>\n",
       "      <td>2020-01-30</td>\n",
       "      <td>30</td>\n",
       "      <td>36.516000</td>\n",
       "      <td>40.616119</td>\n",
       "      <td>12</td>\n",
       "      <td>31</td>\n",
       "    </tr>\n",
       "    <tr>\n",
       "      <td>20888</td>\n",
       "      <td>ZT</td>\n",
       "      <td>2019-12-31</td>\n",
       "      <td>2020-01-04</td>\n",
       "      <td>4</td>\n",
       "      <td>21.567500</td>\n",
       "      <td>70.956929</td>\n",
       "      <td>12</td>\n",
       "      <td>31</td>\n",
       "    </tr>\n",
       "  </tbody>\n",
       "</table>\n",
       "<p>28384 rows × 8 columns</p>\n",
       "</div>"
      ],
      "text/plain": [
       "      AGENCY       PDATE       DDATE  LOR  MIN_DAILY_FARE  AVG_DAILY_FARE  \\\n",
       "7380      ZE  2019-01-01  2019-01-06    5       30.978000       72.084419   \n",
       "8949      ZR  2019-01-01  2019-01-02    1       18.760000       50.374389   \n",
       "444       ZT  2019-01-01  2019-01-06    5       24.966000       38.488829   \n",
       "12372     ET  2019-01-01  2019-01-10    9       22.786667       59.388324   \n",
       "12373     ZD  2019-01-01  2019-01-10    9       26.008889       52.202661   \n",
       "...      ...         ...         ...  ...             ...             ...   \n",
       "28309     ZI  2019-12-31  2020-01-05    5       70.078000      123.885821   \n",
       "17278     ZR  2019-12-31  2020-01-09    9       17.620000       60.839116   \n",
       "19096     AL  2019-12-31  2020-01-30   30       36.514667       40.383893   \n",
       "17281     ET  2019-12-31  2020-01-30   30       36.516000       40.616119   \n",
       "20888     ZT  2019-12-31  2020-01-04    4       21.567500       70.956929   \n",
       "\n",
       "      MONTH_PDATE DAY_PDATE  \n",
       "7380           01        01  \n",
       "8949           01        01  \n",
       "444            01        01  \n",
       "12372          01        01  \n",
       "12373          01        01  \n",
       "...           ...       ...  \n",
       "28309          12        31  \n",
       "17278          12        31  \n",
       "19096          12        31  \n",
       "17281          12        31  \n",
       "20888          12        31  \n",
       "\n",
       "[28384 rows x 8 columns]"
      ]
     },
     "execution_count": 46,
     "metadata": {},
     "output_type": "execute_result"
    }
   ],
   "source": [
    "d"
   ]
  },
  {
   "cell_type": "markdown",
   "metadata": {},
   "source": [
    "Save for further use."
   ]
  },
  {
   "cell_type": "code",
   "execution_count": 47,
   "metadata": {},
   "outputs": [],
   "source": [
    "d.to_csv(\"combined_car_rental_data.csv\")"
   ]
  },
  {
   "cell_type": "code",
   "execution_count": null,
   "metadata": {},
   "outputs": [],
   "source": [
    "# run from here next time"
   ]
  },
  {
   "cell_type": "code",
   "execution_count": null,
   "metadata": {},
   "outputs": [],
   "source": [
    "d = pd.read_csv(\"combined_car_rental_data.csv\")"
   ]
  },
  {
   "cell_type": "code",
   "execution_count": 48,
   "metadata": {},
   "outputs": [
    {
     "name": "stdout",
     "output_type": "stream",
     "text": [
      "<class 'pandas.core.frame.DataFrame'>\n",
      "Int64Index: 28384 entries, 7380 to 20888\n",
      "Data columns (total 8 columns):\n",
      "AGENCY            28384 non-null object\n",
      "PDATE             28384 non-null object\n",
      "DDATE             28384 non-null object\n",
      "LOR               28384 non-null int64\n",
      "MIN_DAILY_FARE    28384 non-null float64\n",
      "AVG_DAILY_FARE    28384 non-null float64\n",
      "MONTH_PDATE       28384 non-null object\n",
      "DAY_PDATE         28384 non-null object\n",
      "dtypes: float64(2), int64(1), object(5)\n",
      "memory usage: 1.9+ MB\n"
     ]
    }
   ],
   "source": [
    "d.info()"
   ]
  },
  {
   "cell_type": "markdown",
   "metadata": {},
   "source": [
    "### Data Visualization\n",
    "\n",
    "Average daily fare with pick up date\n",
    "\n",
    "<b>Insight: daily fare changes with time. Higher in summer time and at the end of year."
   ]
  },
  {
   "cell_type": "code",
   "execution_count": 53,
   "metadata": {},
   "outputs": [],
   "source": [
    "avg_agency = d.groupby(['PDATE']).mean()"
   ]
  },
  {
   "cell_type": "code",
   "execution_count": 58,
   "metadata": {},
   "outputs": [],
   "source": [
    "avg_agency = avg_agency.reset_index()"
   ]
  },
  {
   "cell_type": "code",
   "execution_count": 81,
   "metadata": {},
   "outputs": [
    {
     "data": {
      "text/html": [
       "<div>\n",
       "<style scoped>\n",
       "    .dataframe tbody tr th:only-of-type {\n",
       "        vertical-align: middle;\n",
       "    }\n",
       "\n",
       "    .dataframe tbody tr th {\n",
       "        vertical-align: top;\n",
       "    }\n",
       "\n",
       "    .dataframe thead th {\n",
       "        text-align: right;\n",
       "    }\n",
       "</style>\n",
       "<table border=\"1\" class=\"dataframe\">\n",
       "  <thead>\n",
       "    <tr style=\"text-align: right;\">\n",
       "      <th></th>\n",
       "      <th>PDATE</th>\n",
       "      <th>LOR</th>\n",
       "      <th>MIN_DAILY_FARE</th>\n",
       "      <th>AVG_DAILY_FARE</th>\n",
       "    </tr>\n",
       "  </thead>\n",
       "  <tbody>\n",
       "    <tr>\n",
       "      <td>0</td>\n",
       "      <td>2019-01-01</td>\n",
       "      <td>5.000000</td>\n",
       "      <td>32.485056</td>\n",
       "      <td>60.984059</td>\n",
       "    </tr>\n",
       "    <tr>\n",
       "      <td>1</td>\n",
       "      <td>2019-01-02</td>\n",
       "      <td>5.000000</td>\n",
       "      <td>30.063898</td>\n",
       "      <td>59.543899</td>\n",
       "    </tr>\n",
       "    <tr>\n",
       "      <td>2</td>\n",
       "      <td>2019-01-03</td>\n",
       "      <td>5.000000</td>\n",
       "      <td>28.221601</td>\n",
       "      <td>58.435075</td>\n",
       "    </tr>\n",
       "    <tr>\n",
       "      <td>3</td>\n",
       "      <td>2019-01-04</td>\n",
       "      <td>5.000000</td>\n",
       "      <td>27.703716</td>\n",
       "      <td>58.945431</td>\n",
       "    </tr>\n",
       "    <tr>\n",
       "      <td>4</td>\n",
       "      <td>2019-01-05</td>\n",
       "      <td>5.000000</td>\n",
       "      <td>28.039725</td>\n",
       "      <td>56.268131</td>\n",
       "    </tr>\n",
       "    <tr>\n",
       "      <td>...</td>\n",
       "      <td>...</td>\n",
       "      <td>...</td>\n",
       "      <td>...</td>\n",
       "      <td>...</td>\n",
       "    </tr>\n",
       "    <tr>\n",
       "      <td>360</td>\n",
       "      <td>2019-12-27</td>\n",
       "      <td>7.906667</td>\n",
       "      <td>87.785577</td>\n",
       "      <td>107.102673</td>\n",
       "    </tr>\n",
       "    <tr>\n",
       "      <td>361</td>\n",
       "      <td>2019-12-28</td>\n",
       "      <td>7.906667</td>\n",
       "      <td>88.138252</td>\n",
       "      <td>106.774935</td>\n",
       "    </tr>\n",
       "    <tr>\n",
       "      <td>362</td>\n",
       "      <td>2019-12-29</td>\n",
       "      <td>7.500000</td>\n",
       "      <td>58.091526</td>\n",
       "      <td>91.263898</td>\n",
       "    </tr>\n",
       "    <tr>\n",
       "      <td>363</td>\n",
       "      <td>2019-12-30</td>\n",
       "      <td>7.500000</td>\n",
       "      <td>40.317329</td>\n",
       "      <td>80.674819</td>\n",
       "    </tr>\n",
       "    <tr>\n",
       "      <td>364</td>\n",
       "      <td>2019-12-31</td>\n",
       "      <td>7.500000</td>\n",
       "      <td>39.774942</td>\n",
       "      <td>76.256258</td>\n",
       "    </tr>\n",
       "  </tbody>\n",
       "</table>\n",
       "<p>365 rows × 4 columns</p>\n",
       "</div>"
      ],
      "text/plain": [
       "          PDATE       LOR  MIN_DAILY_FARE  AVG_DAILY_FARE\n",
       "0    2019-01-01  5.000000       32.485056       60.984059\n",
       "1    2019-01-02  5.000000       30.063898       59.543899\n",
       "2    2019-01-03  5.000000       28.221601       58.435075\n",
       "3    2019-01-04  5.000000       27.703716       58.945431\n",
       "4    2019-01-05  5.000000       28.039725       56.268131\n",
       "..          ...       ...             ...             ...\n",
       "360  2019-12-27  7.906667       87.785577      107.102673\n",
       "361  2019-12-28  7.906667       88.138252      106.774935\n",
       "362  2019-12-29  7.500000       58.091526       91.263898\n",
       "363  2019-12-30  7.500000       40.317329       80.674819\n",
       "364  2019-12-31  7.500000       39.774942       76.256258\n",
       "\n",
       "[365 rows x 4 columns]"
      ]
     },
     "execution_count": 81,
     "metadata": {},
     "output_type": "execute_result"
    }
   ],
   "source": [
    "avg_agency"
   ]
  },
  {
   "cell_type": "code",
   "execution_count": 68,
   "metadata": {},
   "outputs": [],
   "source": [
    "converted_dates = list(map(datetime.strptime, avg_agency['PDATE'], len(avg_agency['PDATE'])*['%Y-%m-%d']))"
   ]
  },
  {
   "cell_type": "code",
   "execution_count": 66,
   "metadata": {},
   "outputs": [
    {
     "data": {
      "image/png": "[encoded data removed]",
      "text/plain": [
       "<Figure size 1440x720 with 1 Axes>"
      ]
     },
     "metadata": {
      "needs_background": "light"
     },
     "output_type": "display_data"
    }
   ],
   "source": [
    "plt.figure(figsize=(20,10))\n",
    "plt.plot(converted_dates, avg_agency['AVG_DAILY_FARE'])\n",
    "plt.title(\"Average Daily Car Rental Fare with Pick-up Date\")\n",
    "plt.xlabel(\"Pick-up Date\")\n",
    "plt.ylabel(\"Average Daily Fare in USD\")\n",
    "plt.show()"
   ]
  },
  {
   "cell_type": "markdown",
   "metadata": {},
   "source": [
    "Average daily fare for different agencies.\n",
    "\n",
    "<b>Insight: Rental fare in ZL is higher than others but in general the difference among agencies is not very large."
   ]
  },
  {
   "cell_type": "code",
   "execution_count": 78,
   "metadata": {},
   "outputs": [],
   "source": [
    "per_agency = d.groupby(['AGENCY']).mean()"
   ]
  },
  {
   "cell_type": "code",
   "execution_count": 79,
   "metadata": {},
   "outputs": [],
   "source": [
    "per_agency = per_agency.reset_index()"
   ]
  },
  {
   "cell_type": "code",
   "execution_count": 80,
   "metadata": {},
   "outputs": [
    {
     "data": {
      "text/html": [
       "<div>\n",
       "<style scoped>\n",
       "    .dataframe tbody tr th:only-of-type {\n",
       "        vertical-align: middle;\n",
       "    }\n",
       "\n",
       "    .dataframe tbody tr th {\n",
       "        vertical-align: top;\n",
       "    }\n",
       "\n",
       "    .dataframe thead th {\n",
       "        text-align: right;\n",
       "    }\n",
       "</style>\n",
       "<table border=\"1\" class=\"dataframe\">\n",
       "  <thead>\n",
       "    <tr style=\"text-align: right;\">\n",
       "      <th></th>\n",
       "      <th>AGENCY</th>\n",
       "      <th>LOR</th>\n",
       "      <th>MIN_DAILY_FARE</th>\n",
       "      <th>AVG_DAILY_FARE</th>\n",
       "    </tr>\n",
       "  </thead>\n",
       "  <tbody>\n",
       "    <tr>\n",
       "      <td>0</td>\n",
       "      <td>AL</td>\n",
       "      <td>6.880147</td>\n",
       "      <td>49.106741</td>\n",
       "      <td>72.168082</td>\n",
       "    </tr>\n",
       "    <tr>\n",
       "      <td>1</td>\n",
       "      <td>ET</td>\n",
       "      <td>6.880147</td>\n",
       "      <td>52.929516</td>\n",
       "      <td>75.282484</td>\n",
       "    </tr>\n",
       "    <tr>\n",
       "      <td>2</td>\n",
       "      <td>ZD</td>\n",
       "      <td>6.890960</td>\n",
       "      <td>49.065970</td>\n",
       "      <td>68.702522</td>\n",
       "    </tr>\n",
       "    <tr>\n",
       "      <td>3</td>\n",
       "      <td>ZE</td>\n",
       "      <td>6.872712</td>\n",
       "      <td>44.489189</td>\n",
       "      <td>74.361444</td>\n",
       "    </tr>\n",
       "    <tr>\n",
       "      <td>4</td>\n",
       "      <td>ZI</td>\n",
       "      <td>6.874366</td>\n",
       "      <td>55.171811</td>\n",
       "      <td>78.413043</td>\n",
       "    </tr>\n",
       "    <tr>\n",
       "      <td>5</td>\n",
       "      <td>ZL</td>\n",
       "      <td>6.876021</td>\n",
       "      <td>75.097967</td>\n",
       "      <td>87.745544</td>\n",
       "    </tr>\n",
       "    <tr>\n",
       "      <td>6</td>\n",
       "      <td>ZR</td>\n",
       "      <td>6.872712</td>\n",
       "      <td>38.355778</td>\n",
       "      <td>62.000557</td>\n",
       "    </tr>\n",
       "    <tr>\n",
       "      <td>7</td>\n",
       "      <td>ZT</td>\n",
       "      <td>6.872712</td>\n",
       "      <td>38.187669</td>\n",
       "      <td>61.808907</td>\n",
       "    </tr>\n",
       "  </tbody>\n",
       "</table>\n",
       "</div>"
      ],
      "text/plain": [
       "  AGENCY       LOR  MIN_DAILY_FARE  AVG_DAILY_FARE\n",
       "0     AL  6.880147       49.106741       72.168082\n",
       "1     ET  6.880147       52.929516       75.282484\n",
       "2     ZD  6.890960       49.065970       68.702522\n",
       "3     ZE  6.872712       44.489189       74.361444\n",
       "4     ZI  6.874366       55.171811       78.413043\n",
       "5     ZL  6.876021       75.097967       87.745544\n",
       "6     ZR  6.872712       38.355778       62.000557\n",
       "7     ZT  6.872712       38.187669       61.808907"
      ]
     },
     "execution_count": 80,
     "metadata": {},
     "output_type": "execute_result"
    }
   ],
   "source": [
    "per_agency"
   ]
  },
  {
   "cell_type": "code",
   "execution_count": 85,
   "metadata": {},
   "outputs": [
    {
     "data": {
      "image/png": "[encoded data removed]",
      "text/plain": [
       "<Figure size 432x288 with 1 Axes>"
      ]
     },
     "metadata": {
      "needs_background": "light"
     },
     "output_type": "display_data"
    }
   ],
   "source": [
    "plt.bar(per_agency['AGENCY'], per_agency['AVG_DAILY_FARE'])\n",
    "plt.title(\"Average Daily Car Rental Fare Per Agency\")\n",
    "plt.xlabel(\"Agency\")\n",
    "plt.ylabel(\"Average Daily Fare in USD\")\n",
    "plt.show()"
   ]
  },
  {
   "cell_type": "markdown",
   "metadata": {},
   "source": [
    "Average daily fare for different length of rent.\n",
    "\n",
    "<b>Insight: there is a trend that larger LOR gives lower daily fare, which is reasonable according to common sense. "
   ]
  },
  {
   "cell_type": "code",
   "execution_count": 86,
   "metadata": {},
   "outputs": [],
   "source": [
    "per_lor = d.groupby(['LOR']).mean()"
   ]
  },
  {
   "cell_type": "code",
   "execution_count": 87,
   "metadata": {},
   "outputs": [],
   "source": [
    "per_lor = per_lor.reset_index()"
   ]
  },
  {
   "cell_type": "code",
   "execution_count": 88,
   "metadata": {},
   "outputs": [
    {
     "data": {
      "text/html": [
       "<div>\n",
       "<style scoped>\n",
       "    .dataframe tbody tr th:only-of-type {\n",
       "        vertical-align: middle;\n",
       "    }\n",
       "\n",
       "    .dataframe tbody tr th {\n",
       "        vertical-align: top;\n",
       "    }\n",
       "\n",
       "    .dataframe thead th {\n",
       "        text-align: right;\n",
       "    }\n",
       "</style>\n",
       "<table border=\"1\" class=\"dataframe\">\n",
       "  <thead>\n",
       "    <tr style=\"text-align: right;\">\n",
       "      <th></th>\n",
       "      <th>LOR</th>\n",
       "      <th>MIN_DAILY_FARE</th>\n",
       "      <th>AVG_DAILY_FARE</th>\n",
       "    </tr>\n",
       "  </thead>\n",
       "  <tbody>\n",
       "    <tr>\n",
       "      <td>0</td>\n",
       "      <td>1</td>\n",
       "      <td>59.459128</td>\n",
       "      <td>85.919331</td>\n",
       "    </tr>\n",
       "    <tr>\n",
       "      <td>1</td>\n",
       "      <td>2</td>\n",
       "      <td>57.869858</td>\n",
       "      <td>83.367049</td>\n",
       "    </tr>\n",
       "    <tr>\n",
       "      <td>2</td>\n",
       "      <td>3</td>\n",
       "      <td>57.354244</td>\n",
       "      <td>83.393761</td>\n",
       "    </tr>\n",
       "    <tr>\n",
       "      <td>3</td>\n",
       "      <td>4</td>\n",
       "      <td>57.741573</td>\n",
       "      <td>81.829674</td>\n",
       "    </tr>\n",
       "    <tr>\n",
       "      <td>4</td>\n",
       "      <td>5</td>\n",
       "      <td>56.767837</td>\n",
       "      <td>86.112701</td>\n",
       "    </tr>\n",
       "    <tr>\n",
       "      <td>5</td>\n",
       "      <td>6</td>\n",
       "      <td>48.544624</td>\n",
       "      <td>71.461452</td>\n",
       "    </tr>\n",
       "    <tr>\n",
       "      <td>6</td>\n",
       "      <td>7</td>\n",
       "      <td>42.383167</td>\n",
       "      <td>63.641292</td>\n",
       "    </tr>\n",
       "    <tr>\n",
       "      <td>7</td>\n",
       "      <td>8</td>\n",
       "      <td>42.803929</td>\n",
       "      <td>62.662736</td>\n",
       "    </tr>\n",
       "    <tr>\n",
       "      <td>8</td>\n",
       "      <td>9</td>\n",
       "      <td>42.016525</td>\n",
       "      <td>60.598683</td>\n",
       "    </tr>\n",
       "    <tr>\n",
       "      <td>9</td>\n",
       "      <td>30</td>\n",
       "      <td>33.587271</td>\n",
       "      <td>37.101699</td>\n",
       "    </tr>\n",
       "  </tbody>\n",
       "</table>\n",
       "</div>"
      ],
      "text/plain": [
       "   LOR  MIN_DAILY_FARE  AVG_DAILY_FARE\n",
       "0    1       59.459128       85.919331\n",
       "1    2       57.869858       83.367049\n",
       "2    3       57.354244       83.393761\n",
       "3    4       57.741573       81.829674\n",
       "4    5       56.767837       86.112701\n",
       "5    6       48.544624       71.461452\n",
       "6    7       42.383167       63.641292\n",
       "7    8       42.803929       62.662736\n",
       "8    9       42.016525       60.598683\n",
       "9   30       33.587271       37.101699"
      ]
     },
     "execution_count": 88,
     "metadata": {},
     "output_type": "execute_result"
    }
   ],
   "source": [
    "per_lor"
   ]
  },
  {
   "cell_type": "code",
   "execution_count": 96,
   "metadata": {},
   "outputs": [
    {
     "data": {
      "image/png": "[encoded data removed]",
      "text/plain": [
       "<Figure size 432x288 with 1 Axes>"
      ]
     },
     "metadata": {
      "needs_background": "light"
     },
     "output_type": "display_data"
    }
   ],
   "source": [
    "plt.bar(per_lor['LOR'], per_lor['AVG_DAILY_FARE'])\n",
    "plt.title(\"Average Daily Car Rental Fare for Different Length of Rent\")\n",
    "plt.xlabel(\"Length of Rent\")\n",
    "plt.ylabel(\"Average Daily Fare in USD\")\n",
    "plt.show()"
   ]
  },
  {
   "cell_type": "code",
   "execution_count": null,
   "metadata": {},
   "outputs": [],
   "source": []
  },
  {
   "cell_type": "markdown",
   "metadata": {},
   "source": [
    "### Build the Model"
   ]
  },
  {
   "cell_type": "markdown",
   "metadata": {},
   "source": [
    "How we interpret features?<br>\n",
    "AGENCY: agency that provides car rental service. From EDA, we know the distribution for each agency is quite even.<br>\n",
    "-> convert to numerical (1 hot encoding for now)<br>\n",
    "<br>\n",
    "PDATE: pick up date<br>\n",
    "-> Possible conversion to datetime object (like in ARIMA), till then use numerical converted PDATE_month, day for now<br>\n",
    "<br>\n",
    "DDATE: drop/return date<br>\n",
    "-> Drop because it can be calculated by PDATE and LOR<br>\n",
    "<br>\n",
    "LOR: length of rent (in days)<br>\n",
    "-> already numerical data (int)<br>\n",
    "<br>\n",
    "MIN_DAILY_FARE: minimium daily rental fare<br>\n",
    "-> currently not used this one<br>\n",
    "<br>\n",
    "AVG_DAILY_FARE: average daily rental fare<br>\n",
    "-> numerical value to be predicted<br>\n",
    "<br>\n",
    "MONTH_PDATE, DAY_PDATE: newly generated values from PDATE<br>\n",
    "-> to be used in model<br>"
   ]
  },
  {
   "cell_type": "code",
   "execution_count": 35,
   "metadata": {},
   "outputs": [
    {
     "data": {
      "text/plain": [
       "count    28384.000000\n",
       "mean        72.560131\n",
       "std         19.850851\n",
       "min         22.275413\n",
       "25%         59.356740\n",
       "50%         72.540518\n",
       "75%         86.832585\n",
       "max        201.916235\n",
       "Name: AVG_DAILY_FARE, dtype: float64"
      ]
     },
     "execution_count": 35,
     "metadata": {},
     "output_type": "execute_result"
    }
   ],
   "source": [
    "d[\"AVG_DAILY_FARE\"].describe()"
   ]
  },
  {
   "cell_type": "code",
   "execution_count": 100,
   "metadata": {},
   "outputs": [
    {
     "name": "stdout",
     "output_type": "stream",
     "text": [
      "<class 'pandas.core.frame.DataFrame'>\n",
      "Int64Index: 28384 entries, 7380 to 20888\n",
      "Data columns (total 10 columns):\n",
      "LOR            28384 non-null int64\n",
      "MONTH_PDATE    28384 non-null object\n",
      "DAY_PDATE      28384 non-null object\n",
      "AGENCY_ET      28384 non-null uint8\n",
      "AGENCY_ZD      28384 non-null uint8\n",
      "AGENCY_ZE      28384 non-null uint8\n",
      "AGENCY_ZI      28384 non-null uint8\n",
      "AGENCY_ZL      28384 non-null uint8\n",
      "AGENCY_ZR      28384 non-null uint8\n",
      "AGENCY_ZT      28384 non-null uint8\n",
      "dtypes: int64(1), object(2), uint8(7)\n",
      "memory usage: 1.1+ MB\n"
     ]
    }
   ],
   "source": [
    "d_regression = d.copy()\n",
    "drop_columns = [\"PDATE\", \"DDATE\", \"MIN_DAILY_FARE\",\"AVG_DAILY_FARE\"]\n",
    "d_regression.drop(columns = drop_columns , axis=1, inplace = True)\n",
    "d_regression = pd.get_dummies(d_regression,columns=['AGENCY'], drop_first=True)\n",
    "d_regression.info()"
   ]
  },
  {
   "cell_type": "code",
   "execution_count": 101,
   "metadata": {},
   "outputs": [
    {
     "data": {
      "text/html": [
       "<div>\n",
       "<style scoped>\n",
       "    .dataframe tbody tr th:only-of-type {\n",
       "        vertical-align: middle;\n",
       "    }\n",
       "\n",
       "    .dataframe tbody tr th {\n",
       "        vertical-align: top;\n",
       "    }\n",
       "\n",
       "    .dataframe thead th {\n",
       "        text-align: right;\n",
       "    }\n",
       "</style>\n",
       "<table border=\"1\" class=\"dataframe\">\n",
       "  <thead>\n",
       "    <tr style=\"text-align: right;\">\n",
       "      <th></th>\n",
       "      <th>LOR</th>\n",
       "      <th>MONTH_PDATE</th>\n",
       "      <th>DAY_PDATE</th>\n",
       "      <th>AGENCY_ET</th>\n",
       "      <th>AGENCY_ZD</th>\n",
       "      <th>AGENCY_ZE</th>\n",
       "      <th>AGENCY_ZI</th>\n",
       "      <th>AGENCY_ZL</th>\n",
       "      <th>AGENCY_ZR</th>\n",
       "      <th>AGENCY_ZT</th>\n",
       "    </tr>\n",
       "  </thead>\n",
       "  <tbody>\n",
       "    <tr>\n",
       "      <td>7380</td>\n",
       "      <td>5</td>\n",
       "      <td>01</td>\n",
       "      <td>01</td>\n",
       "      <td>0</td>\n",
       "      <td>0</td>\n",
       "      <td>1</td>\n",
       "      <td>0</td>\n",
       "      <td>0</td>\n",
       "      <td>0</td>\n",
       "      <td>0</td>\n",
       "    </tr>\n",
       "    <tr>\n",
       "      <td>8949</td>\n",
       "      <td>1</td>\n",
       "      <td>01</td>\n",
       "      <td>01</td>\n",
       "      <td>0</td>\n",
       "      <td>0</td>\n",
       "      <td>0</td>\n",
       "      <td>0</td>\n",
       "      <td>0</td>\n",
       "      <td>1</td>\n",
       "      <td>0</td>\n",
       "    </tr>\n",
       "    <tr>\n",
       "      <td>444</td>\n",
       "      <td>5</td>\n",
       "      <td>01</td>\n",
       "      <td>01</td>\n",
       "      <td>0</td>\n",
       "      <td>0</td>\n",
       "      <td>0</td>\n",
       "      <td>0</td>\n",
       "      <td>0</td>\n",
       "      <td>0</td>\n",
       "      <td>1</td>\n",
       "    </tr>\n",
       "    <tr>\n",
       "      <td>12372</td>\n",
       "      <td>9</td>\n",
       "      <td>01</td>\n",
       "      <td>01</td>\n",
       "      <td>1</td>\n",
       "      <td>0</td>\n",
       "      <td>0</td>\n",
       "      <td>0</td>\n",
       "      <td>0</td>\n",
       "      <td>0</td>\n",
       "      <td>0</td>\n",
       "    </tr>\n",
       "    <tr>\n",
       "      <td>12373</td>\n",
       "      <td>9</td>\n",
       "      <td>01</td>\n",
       "      <td>01</td>\n",
       "      <td>0</td>\n",
       "      <td>1</td>\n",
       "      <td>0</td>\n",
       "      <td>0</td>\n",
       "      <td>0</td>\n",
       "      <td>0</td>\n",
       "      <td>0</td>\n",
       "    </tr>\n",
       "  </tbody>\n",
       "</table>\n",
       "</div>"
      ],
      "text/plain": [
       "       LOR MONTH_PDATE DAY_PDATE  AGENCY_ET  AGENCY_ZD  AGENCY_ZE  AGENCY_ZI  \\\n",
       "7380     5          01        01          0          0          1          0   \n",
       "8949     1          01        01          0          0          0          0   \n",
       "444      5          01        01          0          0          0          0   \n",
       "12372    9          01        01          1          0          0          0   \n",
       "12373    9          01        01          0          1          0          0   \n",
       "\n",
       "       AGENCY_ZL  AGENCY_ZR  AGENCY_ZT  \n",
       "7380           0          0          0  \n",
       "8949           0          1          0  \n",
       "444            0          0          1  \n",
       "12372          0          0          0  \n",
       "12373          0          0          0  "
      ]
     },
     "execution_count": 101,
     "metadata": {},
     "output_type": "execute_result"
    }
   ],
   "source": [
    "d_regression.head()"
   ]
  },
  {
   "cell_type": "code",
   "execution_count": 104,
   "metadata": {},
   "outputs": [],
   "source": [
    "X = d_regression\n",
    "y = d[\"AVG_DAILY_FARE\"]\n",
    "X_train, X_test, y_train, y_test = train_test_split(X, y, test_size=0.33, random_state=42)"
   ]
  },
  {
   "cell_type": "code",
   "execution_count": 107,
   "metadata": {},
   "outputs": [
    {
     "name": "stdout",
     "output_type": "stream",
     "text": [
      "Train RMSE error 12.959447124079894\n",
      "Test RMSE error 12.615785065321706\n",
      "Coefficients\n",
      "LOR -1.83\n",
      "MONTH_PDATE 0.73\n",
      "DAY_PDATE 0.1\n",
      "AGENCY_ET 2.89\n",
      "AGENCY_ZD -3.69\n",
      "AGENCY_ZE 2.06\n",
      "AGENCY_ZI 6.14\n",
      "AGENCY_ZL 15.57\n",
      "AGENCY_ZR -10.25\n",
      "AGENCY_ZT -10.59\n"
     ]
    }
   ],
   "source": [
    "reg = LinearRegression()\n",
    "reg.fit(X_train, y_train)\n",
    "print(\"Train RMSE error\", sqrt(mean_squared_error(y_train, reg.predict(X_train))))\n",
    "print(\"Test RMSE error\", sqrt(mean_squared_error(y_test, reg.predict(X_test))))\n",
    "print(\"Coefficients\")\n",
    "for x, y in zip(X_train.columns.tolist(), reg.coef_):\n",
    "    print(x,round(y,2))"
   ]
  },
  {
   "cell_type": "code",
   "execution_count": 108,
   "metadata": {},
   "outputs": [
    {
     "name": "stdout",
     "output_type": "stream",
     "text": [
      "Train RMSE error 14.154850876151322\n",
      "Test RMSE error 13.804125614177934\n",
      "Coefficients\n",
      "LOR -1.8\n",
      "MONTH_PDATE 0.62\n",
      "DAY_PDATE 0.09\n",
      "AGENCY_ET 0.0\n",
      "AGENCY_ZD -0.0\n",
      "AGENCY_ZE 0.0\n",
      "AGENCY_ZI 0.0\n",
      "AGENCY_ZL 7.72\n",
      "AGENCY_ZR -2.16\n",
      "AGENCY_ZT -2.35\n"
     ]
    }
   ],
   "source": [
    "clf = linear_model.Lasso()\n",
    "clf.fit(X_train, y_train)\n",
    "print(\"Train RMSE error\", sqrt(mean_squared_error(y_train, clf.predict(X_train))))\n",
    "print(\"Test RMSE error\", sqrt(mean_squared_error(y_test, clf.predict(X_test))))\n",
    "print(\"Coefficients\")\n",
    "for x, y in zip(X_train.columns.tolist(), clf.coef_):\n",
    "    print(x,round(y,2))"
   ]
  },
  {
   "cell_type": "code",
   "execution_count": null,
   "metadata": {},
   "outputs": [],
   "source": []
  }
 ],
 "metadata": {
  "kernelspec": {
   "display_name": "Python 3",
   "language": "python",
   "name": "python3"
  },
  "language_info": {
   "codemirror_mode": {
    "name": "ipython",
    "version": 3
   },
   "file_extension": ".py",
   "mimetype": "text/x-python",
   "name": "python",
   "nbconvert_exporter": "python",
   "pygments_lexer": "ipython3",
   "version": "3.7.4"
  }
 },
 "nbformat": 4,
 "nbformat_minor": 2
}
