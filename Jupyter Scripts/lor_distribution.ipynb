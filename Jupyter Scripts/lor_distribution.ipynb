{
 "cells": [
  {
   "cell_type": "code",
   "execution_count": 3,
   "metadata": {},
   "outputs": [
    {
     "name": "stdout",
     "output_type": "stream",
     "text": [
      "elapsed time : 0.010535240173339844 seconds\n"
     ]
    }
   ],
   "source": [
    "import pandas as pd\n",
    "import time\n",
    "import sys\n",
    "from datetime import datetime\n",
    "from datetime import timedelta\n",
    "from statistics import mean\n",
    "from statistics import median\n",
    "from math import ceil\n",
    "\n",
    "#PARAMETERS\n",
    "source = 'CarRental_LAX_2018_2019_with_Outsipp.csv'\n",
    "dest = 'result_carrental_outsipp.csv'\n",
    "\n",
    "#SOURCE             DEST\n",
    "#0 COLLECT_DATE     0 COLLECT_DATE\n",
    "#1 PICKUP_DATE      1 PICKUP_DATE\n",
    "#2 DROP_DATE\n",
    "#3 CAR_TYPE         2 CAR_TYPE\n",
    "#4 LOR              3 LOR\n",
    "#5 AVG_FARE         4 AVG_FARE\n",
    "#6 MIN_FARE         5 MIN_FARE\n",
    "#7 MAX_FARE         6 MAX_FARE\n",
    "#8 MEDIAN_FARE      7 MEDIAN_FARE\n",
    "#9 NO_RECORDS\n",
    "\n",
    "#expand the data based on LOR\n",
    "def distribute_lor(dfc):\n",
    "    newdf = {}\n",
    "    #loop for every rows\n",
    "    for row in dfc:\n",
    "        collect_date = row[0]\n",
    "        car_type = row[3]\n",
    "        #distribute based on LOR\n",
    "        for k in range(row[4]):\n",
    "            #pickup_date_str = (datetime.strptime(row[1], '%m/%d/%Y')+timedelta(days=k)).strftime('%m/%d/%Y')\n",
    "            #add the day difference\n",
    "            pickup_date_str = (datetime.strptime(row[1], '%Y-%m-%d')+timedelta(days=k)).strftime('%m/%d/%Y')\n",
    "            #concatenate COLLECT DATE, THE NEW PICKUP DATE and OUTSIPP then use it as index\n",
    "            index = collect_date + pickup_date_str + car_type\n",
    "            if index in newdf:\n",
    "                #if index already exist, then append the data into the existing list value\n",
    "                (newdf[index][3]).append(row[4])\n",
    "                (newdf[index][4]).append(row[5])\n",
    "                (newdf[index][5]).append(row[6])\n",
    "                (newdf[index][6]).append(row[7])\n",
    "                (newdf[index][7]).append(row[8])\n",
    "            else:\n",
    "                #if index does not exist, then create a new list with with index as key\n",
    "                newdf[index] = [collect_date,pickup_date_str,car_type,[row[4]],[row[5]],[row[6]],[row[7]],[row[8]]] \n",
    "    return list(newdf.values())\n",
    "\n",
    "#start time marker\n",
    "start = time.time()\n",
    "#read from the input csv\n",
    "df = pd.read_csv(source)\n",
    "#expand the database based on the LOR\n",
    "df_result = distribute_lor(df.values.tolist())\n",
    "#loop over the expanded dataset and aggregate to calculate AVERAGE, MIN, MAX, MEDIAN\n",
    "for row in df_result:\n",
    "    row[3] = ceil(mean(row[3]))\n",
    "    row[4] = round(mean(row[4]),2)\n",
    "    row[5] = min(row[5])\n",
    "    row[6] = max(row[6])\n",
    "    row[7] = median(row[7])\n",
    "\n",
    "#put the result into dataframe then write to an csv\n",
    "df_result = pd.DataFrame(df_result, columns=['COLLECT_DATE','PICKUP_DATE','OUTSIPP' ,'LOR', 'AVG_FARE', 'MIN_FARE','MAX_FARE','MEDIAN_FARE'])\n",
    "df_result.to_csv(dest, index=False)\n",
    "#end time marker\n",
    "end = time.time()\n",
    "print('elapsed time : {0} seconds'.format(end-start))\n"
   ]
  },
  {
   "cell_type": "code",
   "execution_count": null,
   "metadata": {},
   "outputs": [],
   "source": []
  }
 ],
 "metadata": {
  "kernelspec": {
   "display_name": "Python 3",
   "language": "python",
   "name": "python3"
  },
  "language_info": {
   "codemirror_mode": {
    "name": "ipython",
    "version": 3
   },
   "file_extension": ".py",
   "mimetype": "text/x-python",
   "name": "python",
   "nbconvert_exporter": "python",
   "pygments_lexer": "ipython3",
   "version": "3.7.4"
  }
 },
 "nbformat": 4,
 "nbformat_minor": 2
}
