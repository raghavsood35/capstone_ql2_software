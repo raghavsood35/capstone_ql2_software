{
 "cells": [
  {
   "cell_type": "markdown",
   "metadata": {},
   "source": [
    "# Exploring Classification using Adaboost"
   ]
  },
  {
   "cell_type": "code",
   "execution_count": 1,
   "metadata": {
    "colab": {},
    "colab_type": "code",
    "id": "qkmqzF1S02LC"
   },
   "outputs": [],
   "source": [
    "# imports\n",
    "import pandas as pd\n",
    "import numpy as np\n",
    "import matplotlib.pyplot as plt"
   ]
  },
  {
   "cell_type": "code",
   "execution_count": 2,
   "metadata": {
    "colab": {},
    "colab_type": "code",
    "id": "KJA4_gXg1B44"
   },
   "outputs": [],
   "source": [
    "classification_data = pd.read_csv(\"../../Data/classification_data.csv\")\n",
    "airline_features = pd.read_csv(\"../../Data/new_airfare_features.csv\")"
   ]
  },
  {
   "cell_type": "code",
   "execution_count": 3,
   "metadata": {
    "colab": {},
    "colab_type": "code",
    "id": "eZEcT0sz1HM1"
   },
   "outputs": [],
   "source": [
    "classification_data.drop(columns = \"Unnamed: 0\", inplace = True)\n",
    "airline_features[\"DDATE\"] = pd.to_datetime(airline_features[\"DDATE\"], format='%Y-%m-%d')\n",
    "airline_features[\"DDATE_YEAR\"] = pd.DatetimeIndex(airline_features[\"DDATE\"]).year\n",
    "airline_features[\"DDATE_MONTH\"] = pd.DatetimeIndex(airline_features[\"DDATE\"]).month\n",
    "airline_features[\"DDATE_DATE\"] = pd.DatetimeIndex(airline_features[\"DDATE\"]).day\n",
    "airline_features.drop(columns = \"DDATE\", inplace = True)\n",
    "\n",
    "all_classification_data = pd.merge(classification_data, airline_features, how='left',\n",
    "                                   left_on=['PICKUP_DATE_YEAR','PICKUP_DATE_MONTH', 'PICKUP_DATE_DATE'], \n",
    "                                   right_on = ['DDATE_YEAR','DDATE_MONTH', 'DDATE_DATE'])\n",
    "\n",
    "all_classification_data.dropna(inplace=True)"
   ]
  },
  {
   "cell_type": "code",
   "execution_count": 4,
   "metadata": {
    "colab": {
     "base_uri": "https://localhost:8080/",
     "height": 254
    },
    "colab_type": "code",
    "id": "qf94URbW2wmm",
    "outputId": "58165a01-4c14-4b12-bdcd-3d5a12e501aa"
   },
   "outputs": [
    {
     "data": {
      "text/html": [
       "<div>\n",
       "<style scoped>\n",
       "    .dataframe tbody tr th:only-of-type {\n",
       "        vertical-align: middle;\n",
       "    }\n",
       "\n",
       "    .dataframe tbody tr th {\n",
       "        vertical-align: top;\n",
       "    }\n",
       "\n",
       "    .dataframe thead th {\n",
       "        text-align: right;\n",
       "    }\n",
       "</style>\n",
       "<table border=\"1\" class=\"dataframe\">\n",
       "  <thead>\n",
       "    <tr style=\"text-align: right;\">\n",
       "      <th></th>\n",
       "      <th>AVG_BEFORE_DAYS</th>\n",
       "      <th>HOLIDAY</th>\n",
       "      <th>HOLIDAY AFTER</th>\n",
       "      <th>HOLIDAY BEFORE</th>\n",
       "      <th>WEEKEND</th>\n",
       "      <th>CHANGE</th>\n",
       "      <th>PICKUP_DATE_YEAR</th>\n",
       "      <th>PICKUP_DATE_MONTH</th>\n",
       "      <th>PICKUP_DATE_DATE</th>\n",
       "      <th>OUTSIPP_economy</th>\n",
       "      <th>...</th>\n",
       "      <th>price_per_mile</th>\n",
       "      <th>total_fluc_50</th>\n",
       "      <th>total_fluc_70</th>\n",
       "      <th>total_fluc_120</th>\n",
       "      <th>avg_price</th>\n",
       "      <th>pct_change</th>\n",
       "      <th>trend</th>\n",
       "      <th>DDATE_YEAR</th>\n",
       "      <th>DDATE_MONTH</th>\n",
       "      <th>DDATE_DATE</th>\n",
       "    </tr>\n",
       "  </thead>\n",
       "  <tbody>\n",
       "    <tr>\n",
       "      <th>37</th>\n",
       "      <td>3.137476</td>\n",
       "      <td>0</td>\n",
       "      <td>0</td>\n",
       "      <td>0</td>\n",
       "      <td>0</td>\n",
       "      <td>Decrease</td>\n",
       "      <td>2018</td>\n",
       "      <td>2</td>\n",
       "      <td>1</td>\n",
       "      <td>0</td>\n",
       "      <td>...</td>\n",
       "      <td>0.104127</td>\n",
       "      <td>0.0</td>\n",
       "      <td>0.0</td>\n",
       "      <td>0.0</td>\n",
       "      <td>0.104127</td>\n",
       "      <td>0.0</td>\n",
       "      <td>Decrease</td>\n",
       "      <td>2018.0</td>\n",
       "      <td>2.0</td>\n",
       "      <td>1.0</td>\n",
       "    </tr>\n",
       "    <tr>\n",
       "      <th>38</th>\n",
       "      <td>-0.165880</td>\n",
       "      <td>0</td>\n",
       "      <td>0</td>\n",
       "      <td>0</td>\n",
       "      <td>0</td>\n",
       "      <td>Decrease</td>\n",
       "      <td>2018</td>\n",
       "      <td>2</td>\n",
       "      <td>1</td>\n",
       "      <td>0</td>\n",
       "      <td>...</td>\n",
       "      <td>0.104127</td>\n",
       "      <td>0.0</td>\n",
       "      <td>0.0</td>\n",
       "      <td>0.0</td>\n",
       "      <td>0.104127</td>\n",
       "      <td>0.0</td>\n",
       "      <td>Decrease</td>\n",
       "      <td>2018.0</td>\n",
       "      <td>2.0</td>\n",
       "      <td>1.0</td>\n",
       "    </tr>\n",
       "    <tr>\n",
       "      <th>39</th>\n",
       "      <td>-1.185111</td>\n",
       "      <td>0</td>\n",
       "      <td>0</td>\n",
       "      <td>0</td>\n",
       "      <td>0</td>\n",
       "      <td>No change</td>\n",
       "      <td>2018</td>\n",
       "      <td>2</td>\n",
       "      <td>1</td>\n",
       "      <td>0</td>\n",
       "      <td>...</td>\n",
       "      <td>0.104127</td>\n",
       "      <td>0.0</td>\n",
       "      <td>0.0</td>\n",
       "      <td>0.0</td>\n",
       "      <td>0.104127</td>\n",
       "      <td>0.0</td>\n",
       "      <td>Decrease</td>\n",
       "      <td>2018.0</td>\n",
       "      <td>2.0</td>\n",
       "      <td>1.0</td>\n",
       "    </tr>\n",
       "    <tr>\n",
       "      <th>40</th>\n",
       "      <td>-1.144296</td>\n",
       "      <td>0</td>\n",
       "      <td>0</td>\n",
       "      <td>0</td>\n",
       "      <td>0</td>\n",
       "      <td>Increase</td>\n",
       "      <td>2018</td>\n",
       "      <td>2</td>\n",
       "      <td>1</td>\n",
       "      <td>0</td>\n",
       "      <td>...</td>\n",
       "      <td>0.104127</td>\n",
       "      <td>0.0</td>\n",
       "      <td>0.0</td>\n",
       "      <td>0.0</td>\n",
       "      <td>0.104127</td>\n",
       "      <td>0.0</td>\n",
       "      <td>Decrease</td>\n",
       "      <td>2018.0</td>\n",
       "      <td>2.0</td>\n",
       "      <td>1.0</td>\n",
       "    </tr>\n",
       "    <tr>\n",
       "      <th>41</th>\n",
       "      <td>0.258120</td>\n",
       "      <td>0</td>\n",
       "      <td>0</td>\n",
       "      <td>0</td>\n",
       "      <td>0</td>\n",
       "      <td>Decrease</td>\n",
       "      <td>2018</td>\n",
       "      <td>2</td>\n",
       "      <td>1</td>\n",
       "      <td>0</td>\n",
       "      <td>...</td>\n",
       "      <td>0.104127</td>\n",
       "      <td>0.0</td>\n",
       "      <td>0.0</td>\n",
       "      <td>0.0</td>\n",
       "      <td>0.104127</td>\n",
       "      <td>0.0</td>\n",
       "      <td>Decrease</td>\n",
       "      <td>2018.0</td>\n",
       "      <td>2.0</td>\n",
       "      <td>1.0</td>\n",
       "    </tr>\n",
       "  </tbody>\n",
       "</table>\n",
       "<p>5 rows × 23 columns</p>\n",
       "</div>"
      ],
      "text/plain": [
       "    AVG_BEFORE_DAYS  HOLIDAY  HOLIDAY AFTER  HOLIDAY BEFORE  WEEKEND  \\\n",
       "37         3.137476        0              0               0        0   \n",
       "38        -0.165880        0              0               0        0   \n",
       "39        -1.185111        0              0               0        0   \n",
       "40        -1.144296        0              0               0        0   \n",
       "41         0.258120        0              0               0        0   \n",
       "\n",
       "       CHANGE  PICKUP_DATE_YEAR  PICKUP_DATE_MONTH  PICKUP_DATE_DATE  \\\n",
       "37   Decrease              2018                  2                 1   \n",
       "38   Decrease              2018                  2                 1   \n",
       "39  No change              2018                  2                 1   \n",
       "40   Increase              2018                  2                 1   \n",
       "41   Decrease              2018                  2                 1   \n",
       "\n",
       "    OUTSIPP_economy  ...  price_per_mile  total_fluc_50  total_fluc_70  \\\n",
       "37                0  ...        0.104127            0.0            0.0   \n",
       "38                0  ...        0.104127            0.0            0.0   \n",
       "39                0  ...        0.104127            0.0            0.0   \n",
       "40                0  ...        0.104127            0.0            0.0   \n",
       "41                0  ...        0.104127            0.0            0.0   \n",
       "\n",
       "    total_fluc_120  avg_price  pct_change     trend  DDATE_YEAR  DDATE_MONTH  \\\n",
       "37             0.0   0.104127         0.0  Decrease      2018.0          2.0   \n",
       "38             0.0   0.104127         0.0  Decrease      2018.0          2.0   \n",
       "39             0.0   0.104127         0.0  Decrease      2018.0          2.0   \n",
       "40             0.0   0.104127         0.0  Decrease      2018.0          2.0   \n",
       "41             0.0   0.104127         0.0  Decrease      2018.0          2.0   \n",
       "\n",
       "   DDATE_DATE  \n",
       "37        1.0  \n",
       "38        1.0  \n",
       "39        1.0  \n",
       "40        1.0  \n",
       "41        1.0  \n",
       "\n",
       "[5 rows x 23 columns]"
      ]
     },
     "execution_count": 4,
     "metadata": {},
     "output_type": "execute_result"
    }
   ],
   "source": [
    "all_classification_data.head()"
   ]
  },
  {
   "cell_type": "markdown",
   "metadata": {
    "colab_type": "text",
    "id": "oCP2aRsI1Qhc"
   },
   "source": [
    "# Machine Learning"
   ]
  },
  {
   "cell_type": "code",
   "execution_count": 5,
   "metadata": {
    "colab": {
     "base_uri": "https://localhost:8080/",
     "height": 98
    },
    "colab_type": "code",
    "id": "u4zRK0Cd1Ura",
    "outputId": "e88d7941-f096-4f61-ebb0-9c2293023dfa"
   },
   "outputs": [
    {
     "name": "stdout",
     "output_type": "stream",
     "text": [
      "Min train date: 201802\n",
      "Max train date: 201907\n",
      "\n",
      "Min test date: 201907\n",
      "Max test date: 202001\n"
     ]
    }
   ],
   "source": [
    "drop_columns = [\"DDATE_YEAR\", \"DDATE_MONTH\", \"DDATE_DATE\", \"trend\", \"price_per_mile\", \"avg_price\"]\n",
    "ml_data = all_classification_data.copy()\n",
    "ml_data.drop(columns = drop_columns, inplace = True)\n",
    "classification_columns = [x for x in ml_data.columns.to_list() if x != \"CHANGE\"]\n",
    "X = ml_data[classification_columns]\n",
    "y = ml_data[\"CHANGE\"]\n",
    "\n",
    "X_train = X[:int(X.shape[0]*0.7)]\n",
    "X_test = X[int(X.shape[0]*0.7):]\n",
    "y_train = y[:int(X.shape[0]*0.7)]\n",
    "y_test = y[int(X.shape[0]*0.7):]\n",
    "\n",
    "# Checking correct sort order for train test splits\n",
    "print(\"Min train date:\", min(X_train[\"PICKUP_DATE_YEAR\"]*100 + X_train[\"PICKUP_DATE_MONTH\"]))\n",
    "print(\"Max train date:\", max(X_train[\"PICKUP_DATE_YEAR\"]*100 + X_train[\"PICKUP_DATE_MONTH\"]))\n",
    "print()\n",
    "print(\"Min test date:\", min(X_test[\"PICKUP_DATE_YEAR\"]*100 + X_test[\"PICKUP_DATE_MONTH\"]))\n",
    "print(\"Max test date:\", max(X_test[\"PICKUP_DATE_YEAR\"]*100 + X_test[\"PICKUP_DATE_MONTH\"]))"
   ]
  },
  {
   "cell_type": "code",
   "execution_count": 6,
   "metadata": {
    "colab": {},
    "colab_type": "code",
    "id": "eFm_olKw1WT0"
   },
   "outputs": [],
   "source": [
    "# imports\n",
    "from sklearn.model_selection import cross_val_score\n",
    "from sklearn.model_selection import GridSearchCV\n",
    "from sklearn.ensemble import RandomForestClassifier, AdaBoostClassifier\n",
    "from sklearn.metrics import (accuracy_score, roc_auc_score, balanced_accuracy_score, classification_report\n",
    "                             ,roc_curve, auc)"
   ]
  },
  {
   "cell_type": "code",
   "execution_count": 7,
   "metadata": {
    "colab": {
     "base_uri": "https://localhost:8080/",
     "height": 444
    },
    "colab_type": "code",
    "id": "VVxlJfRx1hLM",
    "outputId": "0aa1e038-14c9-4613-a041-909d240cf28d"
   },
   "outputs": [
    {
     "name": "stdout",
     "output_type": "stream",
     "text": [
      "Training Accuracy for Random Forest 0.5517594991364422\n",
      "Test Accuracy for Random Forest 0.5159299836292658\n",
      "\n",
      "Training Classification report\n",
      "               precision    recall  f1-score   support\n",
      "\n",
      "    Decrease       0.64      0.36      0.47      5689\n",
      "    Increase       0.71      0.42      0.53      5682\n",
      "   No change       0.48      0.81      0.60      7157\n",
      "\n",
      "    accuracy                           0.55     18528\n",
      "   macro avg       0.61      0.53      0.53     18528\n",
      "weighted avg       0.60      0.55      0.54     18528\n",
      "\n",
      "\n",
      "Test Classification report\n",
      "               precision    recall  f1-score   support\n",
      "\n",
      "    Decrease       0.53      0.16      0.25      2509\n",
      "    Increase       0.47      0.29      0.36      1925\n",
      "   No change       0.52      0.90      0.66      3507\n",
      "\n",
      "    accuracy                           0.52      7941\n",
      "   macro avg       0.51      0.45      0.42      7941\n",
      "weighted avg       0.51      0.52      0.46      7941\n",
      "\n"
     ]
    }
   ],
   "source": [
    "best_model = RandomForestClassifier(random_state=1, criterion=\"gini\", max_depth=4, max_features=\"auto\", \n",
    "                                   n_estimators=100)\n",
    "# best_model = RandomForestClassifier()\n",
    "best_model.fit(X_train,y_train)\n",
    "pred = best_model.predict(X_test)\n",
    "print(\"Training Accuracy for Random Forest\",accuracy_score(y_train,best_model.predict(X_train)))\n",
    "print(\"Test Accuracy for Random Forest\",accuracy_score(y_test,pred))\n",
    "print()\n",
    "print(\"Training Classification report\\n\", classification_report(y_train,best_model.predict(X_train)))\n",
    "print()\n",
    "print(\"Test Classification report\\n\", classification_report(y_test, pred))"
   ]
  },
  {
   "cell_type": "code",
   "execution_count": 8,
   "metadata": {
    "colab": {
     "base_uri": "https://localhost:8080/",
     "height": 280
    },
    "colab_type": "code",
    "id": "rz82sU153Vta",
    "outputId": "76b12325-9531-4226-e8e2-19b6c0fa158f"
   },
   "outputs": [
    {
     "name": "stdout",
     "output_type": "stream",
     "text": [
      "AVG_BEFORE_DAYS 0.12\n",
      "HOLIDAY 0.0\n",
      "HOLIDAY AFTER 0.0\n",
      "HOLIDAY BEFORE 0.0\n",
      "WEEKEND 0.0\n",
      "PICKUP_DATE_YEAR 0.03\n",
      "PICKUP_DATE_MONTH 0.34\n",
      "PICKUP_DATE_DATE 0.09\n",
      "OUTSIPP_economy 0.01\n",
      "OUTSIPP_luxury 0.01\n",
      "OUTSIPP_midrange 0.0\n",
      "OUTSIPP_premium 0.0\n",
      "total_fluc_50 0.11\n",
      "total_fluc_70 0.07\n",
      "total_fluc_120 0.14\n",
      "pct_change 0.07\n"
     ]
    }
   ],
   "source": [
    "for x, y in zip(X_train.columns.tolist(), best_model.feature_importances_):\n",
    "    temp = (x,round(y,2)) \n",
    "    print(x,round(y,2))"
   ]
  },
  {
   "cell_type": "code",
   "execution_count": 9,
   "metadata": {
    "colab": {
     "base_uri": "https://localhost:8080/",
     "height": 477
    },
    "colab_type": "code",
    "id": "-afUAPA-3XO9",
    "outputId": "12f2deee-5037-46f4-aab2-9fae3177c7c7"
   },
   "outputs": [
    {
     "name": "stdout",
     "output_type": "stream",
     "text": [
      "Training Accuracy for AdaBoost 0.7290587219343696\n",
      "Test Accuracy for AdaBoost 0.43029845107669057\n",
      "\n",
      "Training Classification report\n",
      "               precision    recall  f1-score   support\n",
      "\n",
      "    Decrease       0.74      0.71      0.73      5689\n",
      "    Increase       0.81      0.71      0.75      5682\n",
      "   No change       0.67      0.76      0.71      7157\n",
      "\n",
      "    accuracy                           0.73     18528\n",
      "   macro avg       0.74      0.73      0.73     18528\n",
      "weighted avg       0.74      0.73      0.73     18528\n",
      "\n",
      "\n",
      "Test Classification report\n",
      "               precision    recall  f1-score   support\n",
      "\n",
      "    Decrease       0.49      0.22      0.31      2509\n",
      "    Increase       0.32      0.64      0.42      1925\n",
      "   No change       0.56      0.46      0.51      3507\n",
      "\n",
      "    accuracy                           0.43      7941\n",
      "   macro avg       0.46      0.44      0.41      7941\n",
      "weighted avg       0.48      0.43      0.42      7941\n",
      "\n",
      "CPU times: user 46.2 s, sys: 455 ms, total: 46.7 s\n",
      "Wall time: 47 s\n"
     ]
    }
   ],
   "source": [
    "%%time\n",
    "ada =  AdaBoostClassifier(base_estimator = best_model)\n",
    "ada.fit(X_train,y_train)\n",
    "ada_pred = ada.predict(X_test)\n",
    "\n",
    "print(\"Training Accuracy for AdaBoost\",accuracy_score(y_train,ada.predict(X_train)))\n",
    "print(\"Test Accuracy for AdaBoost\",accuracy_score(y_test,ada_pred))\n",
    "print()\n",
    "print(\"Training Classification report\\n\", classification_report(y_train,ada.predict(X_train)))\n",
    "print()\n",
    "print(\"Test Classification report\\n\", classification_report(y_test, ada_pred))"
   ]
  },
  {
   "cell_type": "code",
   "execution_count": 10,
   "metadata": {
    "colab": {
     "base_uri": "https://localhost:8080/",
     "height": 477
    },
    "colab_type": "code",
    "id": "ZUSnymzH6Onr",
    "outputId": "a006ba58-cec9-4f61-e584-ec5371945917"
   },
   "outputs": [
    {
     "name": "stdout",
     "output_type": "stream",
     "text": [
      "Training Accuracy for AdaBoost 0.5933182210708118\n",
      "Test Accuracy for AdaBoost 0.5096335474121647\n",
      "\n",
      "Training Classification report\n",
      "               precision    recall  f1-score   support\n",
      "\n",
      "    Decrease       0.66      0.47      0.55      5689\n",
      "    Increase       0.74      0.49      0.59      5682\n",
      "   No change       0.52      0.78      0.62      7157\n",
      "\n",
      "    accuracy                           0.59     18528\n",
      "   macro avg       0.64      0.58      0.59     18528\n",
      "weighted avg       0.63      0.59      0.59     18528\n",
      "\n",
      "\n",
      "Test Classification report\n",
      "               precision    recall  f1-score   support\n",
      "\n",
      "    Decrease       0.52      0.16      0.25      2509\n",
      "    Increase       0.44      0.31      0.36      1925\n",
      "   No change       0.52      0.87      0.65      3507\n",
      "\n",
      "    accuracy                           0.51      7941\n",
      "   macro avg       0.49      0.45      0.42      7941\n",
      "weighted avg       0.50      0.51      0.45      7941\n",
      "\n",
      "CPU times: user 46.2 s, sys: 433 ms, total: 46.7 s\n",
      "Wall time: 47.4 s\n"
     ]
    }
   ],
   "source": [
    "%%time\n",
    "ada =  AdaBoostClassifier(base_estimator = best_model, learning_rate=0.05)\n",
    "ada.fit(X_train,y_train)\n",
    "ada_pred = ada.predict(X_test)\n",
    "\n",
    "print(\"Training Accuracy for AdaBoost\",accuracy_score(y_train,ada.predict(X_train)))\n",
    "print(\"Test Accuracy for AdaBoost\",accuracy_score(y_test,ada_pred))\n",
    "print()\n",
    "print(\"Training Classification report\\n\", classification_report(y_train,ada.predict(X_train)))\n",
    "print()\n",
    "print(\"Test Classification report\\n\", classification_report(y_test, ada_pred))"
   ]
  },
  {
   "cell_type": "code",
   "execution_count": 11,
   "metadata": {
    "colab": {
     "base_uri": "https://localhost:8080/",
     "height": 118
    },
    "colab_type": "code",
    "id": "JQ0X182d6gAY",
    "outputId": "8d2c6d7f-02c9-49a7-967b-1fd2387f7971"
   },
   "outputs": [
    {
     "name": "stdout",
     "output_type": "stream",
     "text": [
      "Fitting 5 folds for each of 120 candidates, totalling 600 fits\n"
     ]
    },
    {
     "name": "stderr",
     "output_type": "stream",
     "text": [
      "[Parallel(n_jobs=-1)]: Using backend LokyBackend with 8 concurrent workers.\n",
      "[Parallel(n_jobs=-1)]: Done  34 tasks      | elapsed:  2.2min\n",
      "/Users/raghavsood/anaconda3/lib/python3.7/site-packages/joblib/externals/loky/process_executor.py:706: UserWarning: A worker stopped while some jobs were given to the executor. This can be caused by a too short worker timeout or by a memory leak.\n",
      "  \"timeout or by a memory leak.\", UserWarning\n",
      "[Parallel(n_jobs=-1)]: Done 184 tasks      | elapsed: 33.0min\n",
      "[Parallel(n_jobs=-1)]: Done 434 tasks      | elapsed: 84.4min\n",
      "[Parallel(n_jobs=-1)]: Done 600 out of 600 | elapsed: 354.9min finished\n"
     ]
    },
    {
     "name": "stdout",
     "output_type": "stream",
     "text": [
      "CPU times: user 5.43 s, sys: 605 ms, total: 6.03 s\n",
      "Wall time: 5h 54min 52s\n"
     ]
    },
    {
     "data": {
      "text/plain": [
       "GridSearchCV(cv=5, error_score=nan,\n",
       "             estimator=AdaBoostClassifier(algorithm='SAMME.R',\n",
       "                                          base_estimator=RandomForestClassifier(bootstrap=True,\n",
       "                                                                                ccp_alpha=0.0,\n",
       "                                                                                class_weight=None,\n",
       "                                                                                criterion='gini',\n",
       "                                                                                max_depth=4,\n",
       "                                                                                max_features='auto',\n",
       "                                                                                max_leaf_nodes=None,\n",
       "                                                                                max_samples=None,\n",
       "                                                                                min_impurity_decrease=0.0,\n",
       "                                                                                min_impurity_split=None,\n",
       "                                                                                min_samples_leaf=1,\n",
       "                                                                                min_samples_split=2,\n",
       "                                                                                min_wei...\n",
       "                                                                                oob_score=False,\n",
       "                                                                                random_state=1,\n",
       "                                                                                verbose=0,\n",
       "                                                                                warm_start=False),\n",
       "                                          learning_rate=1.0, n_estimators=50,\n",
       "                                          random_state=None),\n",
       "             iid='deprecated', n_jobs=-1,\n",
       "             param_grid={'algorithm': ['SAMME', 'SAMME.R'],\n",
       "                         'learning_rate': [1, 0.5, 0.25, 0.1, 0.05, 0.01],\n",
       "                         'n_estimators': [1, 2, 4, 8, 16, 32, 64, 100, 200,\n",
       "                                          400]},\n",
       "             pre_dispatch='2*n_jobs', refit=True, return_train_score=False,\n",
       "             scoring='accuracy', verbose=1)"
      ]
     },
     "execution_count": 11,
     "metadata": {},
     "output_type": "execute_result"
    }
   ],
   "source": [
    "%%time\n",
    "ada_grid = AdaBoostClassifier(base_estimator = best_model)\n",
    "\n",
    "# Setting grid parameters\n",
    "# loss can only be deviance as exponential takes only 2 classes\n",
    "learning_rate = [1, 0.5, 0.25, 0.1, 0.05, 0.01]\n",
    "n_estimators = [1, 2, 4, 8, 16, 32, 64, 100, 200, 400]\n",
    "algorithm = [\"SAMME\", \"SAMME.R\"]\n",
    "\n",
    "\n",
    "parameters = dict(learning_rate = learning_rate, n_estimators = n_estimators,\n",
    "                 algorithm = algorithm)\n",
    "\n",
    "gridF = GridSearchCV(estimator = ada_grid, param_grid = parameters, cv = 5, verbose = 1, scoring = \"accuracy\",\n",
    "                      n_jobs = -1)\n",
    "gridF.fit(X_train, y_train)"
   ]
  },
  {
   "cell_type": "code",
   "execution_count": 12,
   "metadata": {
    "colab": {},
    "colab_type": "code",
    "id": "iLD75Gul62PJ"
   },
   "outputs": [
    {
     "data": {
      "text/plain": [
       "{'algorithm': 'SAMME', 'learning_rate': 0.01, 'n_estimators': 1}"
      ]
     },
     "execution_count": 12,
     "metadata": {},
     "output_type": "execute_result"
    }
   ],
   "source": [
    "gridF.best_params_"
   ]
  },
  {
   "cell_type": "code",
   "execution_count": 14,
   "metadata": {
    "colab": {},
    "colab_type": "code",
    "id": "7nlpNkKUACXo"
   },
   "outputs": [
    {
     "name": "stdout",
     "output_type": "stream",
     "text": [
      "Training Accuracy for AdaBoost 0.5471178756476683\n",
      "Test Accuracy for AdaBoost 0.477521722704949\n",
      "\n",
      "Training Classification report\n",
      "               precision    recall  f1-score   support\n",
      "\n",
      "    Decrease       0.63      0.38      0.47      5689\n",
      "    Increase       0.71      0.40      0.51      5682\n",
      "   No change       0.48      0.80      0.60      7157\n",
      "\n",
      "    accuracy                           0.55     18528\n",
      "   macro avg       0.61      0.53      0.53     18528\n",
      "weighted avg       0.60      0.55      0.53     18528\n",
      "\n",
      "\n",
      "Test Classification report\n",
      "               precision    recall  f1-score   support\n",
      "\n",
      "    Decrease       0.50      0.18      0.26      2509\n",
      "    Increase       0.26      0.09      0.13      1925\n",
      "   No change       0.50      0.90      0.64      3507\n",
      "\n",
      "    accuracy                           0.48      7941\n",
      "   macro avg       0.42      0.39      0.35      7941\n",
      "weighted avg       0.44      0.48      0.40      7941\n",
      "\n"
     ]
    }
   ],
   "source": [
    "#Fitting the best model\n",
    "best_ada = AdaBoostClassifier(base_estimator = best_model, algorithm=\"SAMME\", learning_rate=0.01, n_estimators=1)\n",
    "best_ada.fit(X_train,y_train)\n",
    "best_ada_pred = best_ada.predict(X_test)\n",
    "\n",
    "print(\"Training Accuracy for AdaBoost\",accuracy_score(y_train,best_ada.predict(X_train)))\n",
    "print(\"Test Accuracy for AdaBoost\",accuracy_score(y_test,best_ada_pred))\n",
    "print()\n",
    "print(\"Training Classification report\\n\", classification_report(y_train,best_ada.predict(X_train)))\n",
    "print()\n",
    "print(\"Test Classification report\\n\", classification_report(y_test, best_ada_pred))"
   ]
  }
 ],
 "metadata": {
  "colab": {
   "name": "Classification using Adaboost.ipynb",
   "provenance": []
  },
  "kernelspec": {
   "display_name": "Python 3",
   "language": "python",
   "name": "python3"
  },
  "language_info": {
   "codemirror_mode": {
    "name": "ipython",
    "version": 3
   },
   "file_extension": ".py",
   "mimetype": "text/x-python",
   "name": "python",
   "nbconvert_exporter": "python",
   "pygments_lexer": "ipython3",
   "version": "3.7.3"
  }
 },
 "nbformat": 4,
 "nbformat_minor": 1
}
